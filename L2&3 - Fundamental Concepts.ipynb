{
 "cells": [
  {
   "cell_type": "markdown",
   "metadata": {},
   "source": [
    "# Introduction to C: Fundamental Concepts\n",
    "\n",
    "### PASS\n",
    "Sean Kirkby - SA402 Tuesday 6:00 to 7:30pm and PA218 Thursday 6:00 - 7:30, office hours Monday 3:30-4:30 in the 4th floor of the library\n",
    "\n",
    "### Midterm\n",
    "Saturday November 2 2019, 1:00-2:30 (tentative)\n",
    "\n",
    "### Lab Schedule\n",
    "Attendance at lab session is not mandatory but may be the difference between *marginal* and *unsat*. Do not attend lab sections that are not your own."
   ]
  },
  {
   "cell_type": "markdown",
   "metadata": {},
   "source": [
    "## Hello World in C"
   ]
  },
  {
   "cell_type": "code",
   "execution_count": 1,
   "metadata": {},
   "outputs": [
    {
     "name": "stdout",
     "output_type": "stream",
     "text": [
      "Hello World\n"
     ]
    }
   ],
   "source": [
    "/* Hello World in C */\n",
    "\n",
    "#include <stdio.h>\n",
    "#include <stdlib.h>\n",
    "\n",
    "int main(void){\n",
    "    printf(\"Hello World\\n\");\n",
    "    return EXIT_SUCCESS; /* */\n",
    "}"
   ]
  },
  {
   "cell_type": "markdown",
   "metadata": {},
   "source": [
    "#### Let's unpack that a bit\n",
    "\n",
    "**stdio.h** - contains I/O functions like *printf*  \n",
    "**EXIT_SUCCESS** - a reserved word, defined in **stdlib.h**. To indicate failure, return **EXIT_FAILURE**.\n",
    "\n",
    "Every standard C program has exactly one function named *main*, which is the program's entry point. Passing *void* means that the function has no *parameters*; that is, the function takes no other information to run.\n",
    "\n",
    "**printf** - send *formatted* output to the standard output stream (the console)  \n",
    "\n",
    "The returned value from *main* is the program's exit status; in this case, a macro from stdlib."
   ]
  },
  {
   "cell_type": "markdown",
   "metadata": {},
   "source": [
    "## Fahrenheit to Celsius"
   ]
  },
  {
   "cell_type": "code",
   "execution_count": 1,
   "metadata": {},
   "outputs": [
    {
     "name": "stdout",
     "output_type": "stream",
     "text": [
      "-100  -73.3 \n",
      " -80  -62.2 \n",
      " -60  -51.1 \n",
      " -40  -40.0 \n",
      " -20  -28.9 \n",
      "   0  -17.8 \n",
      "  20   -6.7 \n",
      "  40    4.4 \n",
      "  60   15.6 \n",
      "  80   26.7 \n",
      " 100   37.8 \n",
      " 120   48.9 \n",
      " 140   60.0 \n",
      " 160   71.1 \n",
      " 180   82.2 \n",
      " 200   93.3 \n",
      " 220  104.4 \n"
     ]
    }
   ],
   "source": [
    "#include <stdio.h>\n",
    "#include <stdlib.h>\n",
    "\n",
    "int main(void){\n",
    "    int lower, upper, step;\n",
    "    float fahr, cels;\n",
    "    \n",
    "    // Set up the iteration limits and step size\n",
    "    lower = -100;\n",
    "    upper = 220;\n",
    "    step = 20;\n",
    "    fahr = lower;\n",
    "    \n",
    "    while (fahr <= upper){\n",
    "        cels = (fahr - 32) * 5. / 9.;\n",
    "        printf(\"%4.0f %6.1f \\n\", fahr, cels); // note float formatting\n",
    "        fahr = fahr + step;\n",
    "    }\n",
    "}"
   ]
  },
  {
   "cell_type": "markdown",
   "metadata": {},
   "source": [
    "#### Let's unpack *that* a bit\n",
    "\n",
    "**=** - the *assignment* operator. The expression on the right hand side is stored into the variable on the left hand side.  \n",
    "**-** - subtraction  \n",
    "**/** - division  \n",
    "** * ** - multiplication\n",
    "\n",
    "Parentheses operate algebraically; code inside the parentheses executes first.\n",
    "\n",
    "We are not concerned about numerical precision in this code as we will only print values to one decimal place.\n",
    "\n",
    "---\n",
    "\n",
    "#### Importance of style\n",
    "By some reports, 70% of program development cost can be spent on maintenance, so it's important to keep our codebase readable.  \n",
    "It is not required by the compiler to indent code that is within the braces, but it is good style.  \n",
    "Put spaces around operators to make code easier to read.\n",
    "All statements do requrire a semicolon to terminate.\n",
    "\n",
    "---\n",
    "\n",
    "#### Some *printf* conversion specifications\n",
    "**%f**: floating point number to full stored precision  \n",
    "**%3.2f**: floating point number with 3 digits before and 2 digits after the decimal point  \n",
    "**%4.0f**: floating point number with 4 digits before and no digits after the decimal point  \n",
    "**%d**: integer number\n",
    "\n",
    "---\n",
    "\n",
    "#### Datatypes\n",
    "##### float\n",
    "A floating point type. Single-precision.\n",
    "##### double\n",
    "Double-precision integer. Stores a variable to higher precision than the *float* type.\n",
    "##### int\n",
    "Signed integer type; no decimal places. With signing, can represent a positive or negative number.\n",
    "\n",
    "\n",
    "Dividing or dividing an *int* and *float* will always generate a *_float_*, rather than truncating.\n",
    "\n",
    "#### While loop\n",
    "The while loop will iterate so long as the condition inside the brackets is *true*. Note that we must change something in the loop so as to make iteration non-infinite."
   ]
  },
  {
   "cell_type": "markdown",
   "metadata": {},
   "source": [
    "### An experiment in truncation"
   ]
  },
  {
   "cell_type": "code",
   "execution_count": 5,
   "metadata": {},
   "outputs": [
    {
     "name": "stdout",
     "output_type": "stream",
     "text": [
      "3"
     ]
    }
   ],
   "source": [
    "#include <stdio.h>\n",
    "\n",
    "int main(void){\n",
    "    \n",
    "    // make a floating point variable\n",
    "    float rootbeer = 3.14159;\n",
    "    \n",
    "    // storing in an int truncates\n",
    "    int eger = rootbeer;\n",
    "    printf(\"%i\", eger);\n",
    "}"
   ]
  },
  {
   "cell_type": "code",
   "execution_count": 3,
   "metadata": {},
   "outputs": [
    {
     "name": "stdout",
     "output_type": "stream",
     "text": [
      "25.0\n",
      "25.0\n",
      "25.0\n",
      "25.0\n",
      " 0.0\n",
      " 0.0\n"
     ]
    }
   ],
   "source": [
    "# include <stdio.h>\n",
    "\n",
    "int main(void){\n",
    "    float one, two, three, four, five, six;\n",
    "    int fahr = 77;\n",
    "    \n",
    "    // these are all correct\n",
    "    one = 5.0 / 9.0 * (fahr - 32);\n",
    "    two = 5 / 9.0 * (fahr - 32); // int / float = float; float * int = float\n",
    "    three = 5.0 / 9 * (fahr - 32); // float / int = float; float * int = float\n",
    "    four = (fahr - 32) * 5 / 9; // float * int = float; float / int = float\n",
    "    \n",
    "    // these are  all wrong\n",
    "    five = 5 / 9 * (fahr - 32); // int 5/9 is zero!!!\n",
    "    six = (fahr - 32) * ( 5 / 9 );\n",
    "    \n",
    "    // outputs\n",
    "    printf(\"%4.1f\\n\", one);\n",
    "    printf(\"%4.1f\\n\", two);\n",
    "    printf(\"%4.1f\\n\", three);\n",
    "    printf(\"%4.1f\\n\", four);\n",
    "    printf(\"%4.1f\\n\", five);\n",
    "    printf(\"%4.1f\\n\", six);\n",
    "}"
   ]
  },
  {
   "cell_type": "markdown",
   "metadata": {},
   "source": [
    "### Functions"
   ]
  },
  {
   "cell_type": "code",
   "execution_count": 13,
   "metadata": {},
   "outputs": [
    {
     "name": "stdout",
     "output_type": "stream",
     "text": [
      "954437177"
     ]
    }
   ],
   "source": [
    "/* Raise base to the n'th power, n >= 0. */\n",
    "\n",
    "# include <stdio.h>\n",
    "# include <stdlib.h>\n",
    "\n",
    "int power(int base, int n){\n",
    "    \n",
    "    int i, pow;\n",
    "    \n",
    "    pow = base;\n",
    "    \n",
    "    for ( i = 1; i <= n; n = n + 1){\n",
    "        pow = pow * base;\n",
    "    }\n",
    "    \n",
    "    return pow;\n",
    "}\n",
    "\n",
    "int main (void){\n",
    "    int y; \n",
    "    \n",
    "    y = power(3, 3);\n",
    "    \n",
    "    printf(\"%d\", y);\n",
    "}"
   ]
  },
  {
   "cell_type": "markdown",
   "metadata": {},
   "source": [
    "### Function Prototypes\n",
    "\n",
    "A function in C must be declared before it can be used. However, we can use a *function prototype* instead of the entire function before the first function call.\n",
    "\n",
    "A variable need not have the same name in the function prototype as it has in the function declaration. In C, function arguements are passed by value - the parameters are local variables that are initialized with the values of the arguments."
   ]
  },
  {
   "cell_type": "code",
   "execution_count": 13,
   "metadata": {},
   "outputs": [
    {
     "name": "stdout",
     "output_type": "stream",
     "text": [
      "0 1 1\n",
      "1 2 -3\n",
      "2 4 9\n",
      "3 8 -27\n",
      "4 16 81\n",
      "5 32 -243\n",
      "6 64 729\n",
      "7 128 -2187\n",
      "8 256 6561\n",
      "9 512 -19683\n"
     ]
    }
   ],
   "source": [
    "/* Raise base to the n'th power, n >= 0. */\n",
    "# include <stdio.h>\n",
    "# include <stdlib.h>\n",
    "\n",
    "int power (int, int); // function prototype\n",
    "\n",
    "int main(void){\n",
    "    int i;\n",
    "    i = 0;\n",
    "    \n",
    "    while (i < 10){\n",
    "        printf(\"%d %d %d\\n\", i, power(2,i), power(-3,i));\n",
    "        i += 1;\n",
    "    }\n",
    "    \n",
    "    return EXIT_SUCCESS;\n",
    "}\n",
    "\n",
    "int power(int base, int n){\n",
    "    \n",
    "    int i = n;\n",
    "    int pow = 1;\n",
    "    \n",
    "    while ( i > 0){\n",
    "        pow = pow * base;\n",
    "        i -= 1;\n",
    "    }\n",
    "    \n",
    "    return pow;\n",
    "}"
   ]
  },
  {
   "cell_type": "markdown",
   "metadata": {},
   "source": [
    "In C, function arguments are passed by value in general (except for arrays). Assigning a value to a parameter does not modify the corresponding argument. This can lead to tighter code. Incrementing or decrementing a local variable will not modify the variable passed into the function."
   ]
  },
  {
   "cell_type": "code",
   "execution_count": 14,
   "metadata": {},
   "outputs": [
    {
     "name": "stdout",
     "output_type": "stream",
     "text": [
      "0 1 1\n",
      "1 2 -3\n",
      "2 4 9\n",
      "3 8 -27\n",
      "4 16 81\n",
      "5 32 -243\n",
      "6 64 729\n",
      "7 128 -2187\n",
      "8 256 6561\n",
      "9 512 -19683\n"
     ]
    }
   ],
   "source": [
    "// we don't really need i; let's get rid of it.\n",
    "#include <stdlib.h>\n",
    "#include <stdio.h>\n",
    "\n",
    "int power(int m, int n);\n",
    "\n",
    "int main(void){\n",
    "    int i = 0;\n",
    "    while (i < 10){\n",
    "        printf(\"%d %d %d\\n\", i, power(2,i), power(-3,i));\n",
    "        i += 1;\n",
    "    }\n",
    "    return EXIT_SUCCESS;\n",
    "}\n",
    "\n",
    "int power(int base, int n){\n",
    "    int pow = 1;\n",
    "    while (n > 0){\n",
    "        pow *= base;\n",
    "        n -= 1;\n",
    "    }\n",
    "    return pow;\n",
    "}"
   ]
  },
  {
   "cell_type": "code",
   "execution_count": 20,
   "metadata": {},
   "outputs": [
    {
     "name": "stdout",
     "output_type": "stream",
     "text": [
      "0 1 1\n",
      "1 2 -3\n",
      "2 4 9\n",
      "3 8 -27\n",
      "4 16 81\n",
      "5 32 -243\n",
      "6 64 729\n",
      "7 128 -2187\n",
      "8 256 6561\n",
      "9 512 -19683\n"
     ]
    }
   ],
   "source": [
    "// express as for loops instead\n",
    "#include <stdlib.h>\n",
    "#include <stdio.h>\n",
    "\n",
    "int power(int m, int n);\n",
    "\n",
    "int main(void){\n",
    "    int i = 0;\n",
    "    for (i = 0; i < 10; i++){\n",
    "        printf(\"%d %d %d\\n\", i, power(2,i), power(-3,i));\n",
    "    }\n",
    "    return EXIT_SUCCESS;\n",
    "}\n",
    "\n",
    "int power(int base, int n){\n",
    "    int pow = 1;\n",
    "    for (; n > 0; n=n - 1){ // we don't need an initialization here; so we don't\n",
    "        pow *= base;\n",
    "    }\n",
    "    return pow;\n",
    "}"
   ]
  },
  {
   "cell_type": "code",
   "execution_count": 29,
   "metadata": {},
   "outputs": [
    {
     "name": "stdout",
     "output_type": "stream",
     "text": [
      "0 1 2 3 4 5 6 7 8 9 10 11 12 13 14 15 16 17 18 19 20 21 22 23 24 25 26 27 28 29 30 31 32 33 34 35 36 37 38 39 40 41 42 43 44 45 46 47 48 49 50 51 52 53 54 55 56 "
     ]
    }
   ],
   "source": [
    "// this is a bad program and you should feel bad\n",
    "# include <stdlib.h>\n",
    "# include <stdio.h>\n",
    "\n",
    "int main(void){\n",
    "    int i = 0;\n",
    "    for (;;){ // yup, this garbage compiles\n",
    "        printf(\"%d \", i);\n",
    "        if ( i > 55 ){\n",
    "            return EXIT_SUCCESS;\n",
    "        }\n",
    "        i++;\n",
    "    } \n",
    "}"
   ]
  },
  {
   "cell_type": "code",
   "execution_count": 31,
   "metadata": {},
   "outputs": [
    {
     "name": "stdout",
     "output_type": "stream",
     "text": [
      "0 1 1\n"
     ]
    },
    {
     "name": "stderr",
     "output_type": "stream",
     "text": [
      "[C kernel] Executable exited with code -6"
     ]
    }
   ],
   "source": [
    "// express as for loops instead\n",
    "#include <stdlib.h>\n",
    "#include <stdio.h>\n",
    "\n",
    "int power(int m, int n);\n",
    "\n",
    "int main(void){\n",
    "    int i = 0;\n",
    "    for (i = 0; i < 10; i++){\n",
    "        printf(\"%d %d %d\\n\", i, power(2,i), power(-3,i*-1));\n",
    "    }\n",
    "    return EXIT_SUCCESS;\n",
    "}\n",
    "\n",
    "int power(int base, int n){\n",
    "    \n",
    "    if (n < 0){\n",
    "        abort();\n",
    "    }\n",
    "    \n",
    "    int pow = 1;\n",
    "    for (; n > 0; n=n - 1){ // we don't need an initialization here; so we don't\n",
    "        pow *= base;\n",
    "    }\n",
    "    return pow;\n",
    "}"
   ]
  },
  {
   "cell_type": "code",
   "execution_count": null,
   "metadata": {},
   "outputs": [],
   "source": []
  }
 ],
 "metadata": {
  "kernelspec": {
   "display_name": "C",
   "language": "c",
   "name": "c"
  },
  "language_info": {
   "file_extension": ".c",
   "mimetype": "text/plain",
   "name": "c"
  }
 },
 "nbformat": 4,
 "nbformat_minor": 2
}
