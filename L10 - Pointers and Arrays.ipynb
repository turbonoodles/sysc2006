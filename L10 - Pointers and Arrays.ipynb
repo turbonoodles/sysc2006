{
 "cells": [
  {
   "cell_type": "markdown",
   "metadata": {},
   "source": [
    "# Pointers and Arrays\n",
    "\n",
    "The declaration for an `int` array defines an array that can store 10 integers."
   ]
  },
  {
   "cell_type": "code",
   "execution_count": 3,
   "metadata": {},
   "outputs": [
    {
     "name": "stdout",
     "output_type": "stream",
     "text": [
      "3"
     ]
    }
   ],
   "source": [
    "#include <stdlib.h>\n",
    "#include <stdio.h>\n",
    "\n",
    "int main()\n",
    "{\n",
    "    int a[10];\n",
    "    int* pa; // pointer\n",
    "    pa = &a[0]; // points to first value in a\n",
    "    \n",
    "    int x = 3;\n",
    "    *pa = x; // makes a[0] into a 3\n",
    "    \n",
    "    printf(\"%d\", a[0]); //see?\n",
    "}"
   ]
  },
  {
   "cell_type": "markdown",
   "metadata": {},
   "source": [
    "### Pointer Arithmetic\n",
    "\n",
    "If `pa` points to any element in `a[]`:\n",
    "* `pa+1` is the address of the next element\n",
    "* `pa+i` is the address of the i'th element after the element `pa` points to\n",
    "\n",
    "For example, after executing `pa = &a[0]`:  \n",
    "\n",
    "* `pa+1` is the address of `a[0]`  \n",
    "* `*pa+1` is the contents of `a[0]`  \n",
    "* `pa+i` is the address of `a[i]`  \n",
    "* `*pa+i` is the contents of `a[i]`  \n",
    "\n",
    "And the name of an array is a synonym for the address of its zeroeth element, so `pa = &a[0];` is the same as `pa = a;`. That means that `*(a+i)` is *also* the value of the i'th element of `a[]`."
   ]
  },
  {
   "cell_type": "code",
   "execution_count": 14,
   "metadata": {},
   "outputs": [
    {
     "name": "stdout",
     "output_type": "stream",
     "text": [
      "The average of the array is 14.20."
     ]
    }
   ],
   "source": [
    "#include <stdio.h>\n",
    "\n",
    "double average(int data[], int h)\n",
    "{\n",
    "    double sum = 0;\n",
    "    int i;\n",
    "    \n",
    "    for (i = 0; i < h; i++)\n",
    "    {\n",
    "        sum = sum + data[i];\n",
    "    }\n",
    "    \n",
    "    return sum / h;\n",
    "}\n",
    "\n",
    "int main()\n",
    "{\n",
    "    int samples[10] = { 10, 11, 9, 12, 8, 9, 20, 23, 31, 9 };\n",
    "    \n",
    "    double m = average(samples, 10);\n",
    "    printf(\"The average of the array is %3.2f.\", m);\n",
    "}"
   ]
  },
  {
   "cell_type": "markdown",
   "metadata": {},
   "source": [
    "In the code above, the paramater `data[]` is actually a pointer to the first element of an array of integers. The call `average(samples, 50)` is converted to the call `average(&samples[0], 50)`.\n",
    "\n",
    "We can rewrite the function using pointer expressions:"
   ]
  },
  {
   "cell_type": "code",
   "execution_count": 12,
   "metadata": {},
   "outputs": [
    {
     "name": "stdout",
     "output_type": "stream",
     "text": [
      "The average of the array is 14.20."
     ]
    }
   ],
   "source": [
    "#include <stdio.h>\n",
    "\n",
    "double average( int *data, int n )\n",
    "{\n",
    "    double sum = 0;\n",
    "    int i;\n",
    "    \n",
    "    for(i = 0; i < n; i++)\n",
    "    {\n",
    "        sum = sum + *(data+i);\n",
    "    }\n",
    "\n",
    "    return sum / n;\n",
    "}\n",
    "\n",
    "int main()\n",
    "{\n",
    "    int samples[10] = { 10, 11, 9, 12, 8, 9, 20, 23, 31, 9 };\n",
    "    \n",
    "    double m = average(samples, 10);\n",
    "    printf(\"The average of the array is %3.2f.\", m);\n",
    "}"
   ]
  },
  {
   "cell_type": "markdown",
   "metadata": {},
   "source": [
    "Note that the `data` parameter now has the type *pointer to `int`* and the *pointer-plus-offset* expression is used to access array elements."
   ]
  },
  {
   "cell_type": "code",
   "execution_count": 15,
   "metadata": {},
   "outputs": [
    {
     "name": "stdout",
     "output_type": "stream",
     "text": [
      "The average of the array is 14.20."
     ]
    }
   ],
   "source": [
    "#include <stdio.h>\n",
    "\n",
    "double average( int *data, int n )\n",
    "{\n",
    "    double sum = 0;\n",
    "    int i;\n",
    "    \n",
    "    for(i = 0; i < n; i++)\n",
    "    {\n",
    "        sum = sum + *data;\n",
    "        data += 1; // walking pointer\n",
    "    }\n",
    "\n",
    "    return sum / n;\n",
    "}\n",
    "\n",
    "int main()\n",
    "{\n",
    "    int samples[10] = { 10, 11, 9, 12, 8, 9, 20, 23, 31, 9 };\n",
    "    \n",
    "    double m = average(samples, 10);\n",
    "    printf(\"The average of the array is %3.2f.\", m);\n",
    "}"
   ]
  },
  {
   "cell_type": "markdown",
   "metadata": {},
   "source": [
    "As **parameters** in a function definition, `int data[]` and `int *data` are equivalent. The function can treat `data` as an array of integers, and access elements using subscripts; or it can treat `data` as a pointer to a block of integers and access integers using pointer notation: `*data` or `*(data + 1)`."
   ]
  }
 ],
 "metadata": {
  "kernelspec": {
   "display_name": "C",
   "language": "c",
   "name": "c"
  },
  "language_info": {
   "file_extension": ".c",
   "mimetype": "text/plain",
   "name": "c"
  }
 },
 "nbformat": 4,
 "nbformat_minor": 2
}
