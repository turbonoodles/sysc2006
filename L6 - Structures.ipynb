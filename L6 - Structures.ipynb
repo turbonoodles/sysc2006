{
 "cells": [
  {
   "cell_type": "markdown",
   "metadata": {},
   "source": [
    "# Structures\n",
    "\n",
    "A *structure* consists of one or more variables, grouped together *under a single name*, so we can deal with them as a single unit. The variables in a structure may have different types. For example, for a point in 3-dimensional cartesian space; we can:"
   ]
  },
  {
   "cell_type": "code",
   "execution_count": null,
   "metadata": {},
   "outputs": [],
   "source": [
    "struct 3dpoint{\n",
    "    int x;\n",
    "    int y;\n",
    "    int z;\n",
    "};"
   ]
  },
  {
   "cell_type": "markdown",
   "metadata": {},
   "source": [
    "In this case, point is **not** a variable - it is a *structure tag*, or a type. x, y and z are *members* of the structure *point*. The struct declaration does not allocate memory and creates no actual variables or storage of state. To actually make some points, we can:"
   ]
  },
  {
   "cell_type": "code",
   "execution_count": null,
   "metadata": {},
   "outputs": [],
   "source": [
    "struct 3dpoint point1, point2;"
   ]
  },
  {
   "cell_type": "markdown",
   "metadata": {},
   "source": [
    "And just like normal variables, these structs can be initialized with constant expressions as part of a variable declaration:"
   ]
  },
  {
   "cell_type": "code",
   "execution_count": null,
   "metadata": {},
   "outputs": [],
   "source": [
    "struct 3dpoint estick = { 320, 200 }; // sure, that'll work"
   ]
  },
  {
   "cell_type": "markdown",
   "metadata": {},
   "source": [
    "And we can initialize a a struct after declaration, if we *cast* the expression to the type:"
   ]
  },
  {
   "cell_type": "code",
   "execution_count": null,
   "metadata": {},
   "outputs": [],
   "source": [
    "struct 2dpoint noodle;\n",
    "\n",
    "point4 = { 100, 200 } // not like this\n",
    "\n",
    "point4 = (struct point) {100, 200}; // like this"
   ]
  },
  {
   "cell_type": "markdown",
   "metadata": {},
   "source": [
    "We can also use *typedef* to make a synonymous declaration for a struct:"
   ]
  },
  {
   "cell_type": "code",
   "execution_count": null,
   "metadata": {},
   "outputs": [],
   "source": [
    "struct point{\n",
    "    int x;\n",
    "    int y;\n",
    "    int z;\n",
    "};\n",
    "\n",
    "typedef struct point pointy;"
   ]
  },
  {
   "cell_type": "markdown",
   "metadata": {},
   "source": [
    "wherein we have *pointy* now as an alias or synonym for point. This also **does not** generate a variable with type *pointy* or *struct point*."
   ]
  }
 ],
 "metadata": {
  "kernelspec": {
   "display_name": "C",
   "language": "c",
   "name": "c"
  },
  "language_info": {
   "file_extension": ".c",
   "mimetype": "text/plain",
   "name": "c"
  }
 },
 "nbformat": 4,
 "nbformat_minor": 2
}
