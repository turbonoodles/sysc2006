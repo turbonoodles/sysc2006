{
 "cells": [
  {
   "cell_type": "markdown",
   "metadata": {},
   "source": [
    "# Structures\n",
    "\n",
    "A *structure* consists of one or more variables, grouped together *under a single name*, so we can deal with them as a single unit. The variables in a structure may have different types. For example, for a point in 3-dimensional cartesian space; we can:"
   ]
  },
  {
   "cell_type": "code",
   "execution_count": null,
   "metadata": {},
   "outputs": [],
   "source": [
    "struct 3dpoint{\n",
    "    int x;\n",
    "    int y;\n",
    "    int z;\n",
    "};"
   ]
  },
  {
   "cell_type": "markdown",
   "metadata": {},
   "source": [
    "In this case, point is **not** a variable - it is a *structure tag*, or a type. x, y and z are *members* of the structure *point*. The struct declaration does not allocate memory and creates no actual variables or storage of state. To actually make some points, we can:"
   ]
  },
  {
   "cell_type": "code",
   "execution_count": null,
   "metadata": {},
   "outputs": [],
   "source": [
    "struct 3dpoint point1, point2;"
   ]
  },
  {
   "cell_type": "markdown",
   "metadata": {},
   "source": [
    "And just like normal variables, these structs can be initialized with constant expressions as part of a variable declaration:"
   ]
  },
  {
   "cell_type": "code",
   "execution_count": null,
   "metadata": {},
   "outputs": [],
   "source": [
    "struct 3dpoint estick = { 320, 200 }; // sure, that'll work"
   ]
  },
  {
   "cell_type": "markdown",
   "metadata": {},
   "source": [
    "And we can initialize a a struct after declaration, if we *cast* the expression to the type:"
   ]
  },
  {
   "cell_type": "code",
   "execution_count": null,
   "metadata": {},
   "outputs": [],
   "source": [
    "struct 2dpoint noodle;\n",
    "\n",
    "point4 = { 100, 200 } // not like this\n",
    "\n",
    "point4 = (struct point) {100, 200}; // like this"
   ]
  },
  {
   "cell_type": "markdown",
   "metadata": {},
   "source": [
    "#### Type Casting\n",
    "The structure in the above uses the *casting* operator to change the type of *point4*. \n",
    "\n",
    "We can also use *typedef* to make a synonymous declaration for a struct:"
   ]
  },
  {
   "cell_type": "code",
   "execution_count": null,
   "metadata": {},
   "outputs": [],
   "source": [
    "struct 3dpoint{\n",
    "    int x;\n",
    "    int y;\n",
    "    int z;\n",
    "};\n",
    "\n",
    "typedef struct 3dpoint pointy;"
   ]
  },
  {
   "cell_type": "markdown",
   "metadata": {},
   "source": [
    "wherein we have *pointy* now as an alias or synonym for *3dpoint*. This also **does not** generate a variable with type *pointy* or *struct point*. We can now use *pointy* anywhere we might have used *3dpoint*."
   ]
  },
  {
   "cell_type": "markdown",
   "metadata": {},
   "source": [
    "Structures, when passed into functions, are *passed by value*. Structure members (x, y, z above) can be accessed individuially. Structures can be copied and assigned. Structures can be returned by functions."
   ]
  },
  {
   "cell_type": "code",
   "execution_count": null,
   "metadata": {},
   "outputs": [],
   "source": [
    "point4.x // the x-value of point 4\n",
    "\n",
    "point4.x = point4.x + 20; // add twenty to point4's x value\n",
    "\n",
    "point3.y += 30; // add thirty to point3's y value\n",
    "\n",
    "point2[z]; // this won't work\n",
    "           // cannot subscript a structure like an array"
   ]
  },
  {
   "cell_type": "code",
   "execution_count": null,
   "metadata": {},
   "outputs": [],
   "source": [
    "point1.x = 200;\n",
    "point1.y = 100;\n",
    "point1.z = 50;\n",
    "\n",
    "point2 = point1; // point2 is a new point with the same location as point1"
   ]
  },
  {
   "cell_type": "markdown",
   "metadata": {},
   "source": [
    "## Structures and Functions"
   ]
  },
  {
   "cell_type": "code",
   "execution_count": null,
   "metadata": {},
   "outputs": [],
   "source": [
    "// declaration\n",
    "3dpoint make3dpoint( int x, int y, int z)\n",
    "{\n",
    "    3dpoint temp;\n",
    "    \n",
    "    temp.x = x;\n",
    "    temp.y = y;\n",
    "    temp.z = z;\n",
    "    \n",
    "    return temp;\n",
    "}\n",
    "\n",
    "// more concisely\n",
    "3dpoint make3dpoint( int x, int y, int z)\n",
    "{\n",
    "    return (point_t) { x, y };\n",
    "}\n",
    "\n",
    "// typical call\n",
    "int a, b;\n",
    "\n",
    "3dpoint pointy;\n",
    "\n",
    "a = 300;\n",
    "b = 200;\n",
    "\n",
    "pointy = makepoint(a, b);"
   ]
  },
  {
   "cell_type": "code",
   "execution_count": null,
   "metadata": {},
   "outputs": [],
   "source": [
    "#include <stdio.h>\n",
    "#include <stdlib.h>\n",
    "\n",
    "struct 2dpoint\n",
    "{\n",
    "    int x;\n",
    "    int y;\n",
    "};\n",
    "\n",
    "2dpont makepoint(int x, int y)\n",
    "{\n",
    "    return (2dpoint) { x, y }; // cast to 2dpoint using the casting operator\n",
    "}\n",
    "\n",
    "2dpoint addpoints(2dpoint pt1, 2dpoint pt2)\n",
    "{\n",
    "    pt1.x = pt1.x + pt2.x; // pt1 won't be modified because it is passed by value!\n",
    "    pt1.y = pt1.y + pt2.y;\n",
    "}\n",
    "\n",
    "int main (void)\n",
    "{\n",
    "    \n",
    "}\n"
   ]
  }
 ],
 "metadata": {
  "kernelspec": {
   "display_name": "C",
   "language": "c",
   "name": "c"
  },
  "language_info": {
   "file_extension": ".c",
   "mimetype": "text/plain",
   "name": "c"
  }
 },
 "nbformat": 4,
 "nbformat_minor": 2
}
