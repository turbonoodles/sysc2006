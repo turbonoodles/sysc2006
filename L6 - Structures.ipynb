{
 "cells": [
  {
   "cell_type": "markdown",
   "metadata": {},
   "source": [
    "# Structures\n",
    "\n",
    "A *structure* consists of one or more variables, grouped together *under a single name*, so we can deal with them as a single unit. The variables in a structure may have different types. For example, for a point in 3-dimensional cartesian space; we can:"
   ]
  },
  {
   "cell_type": "code",
   "execution_count": null,
   "metadata": {},
   "outputs": [],
   "source": [
    "struct point{\n",
    "    int x;\n",
    "    int y;\n",
    "    int z;\n",
    "};"
   ]
  },
  {
   "cell_type": "markdown",
   "metadata": {},
   "source": [
    "In this case, `point` is **not** a variable - it is a *structure tag*, or a type. x, y and z are *members* of the structure `point`. The struct declaration does not allocate memory and creates no actual variables or storage of state. To actually make some points, we can:"
   ]
  },
  {
   "cell_type": "code",
   "execution_count": null,
   "metadata": {},
   "outputs": [],
   "source": [
    "struct point point1, point2;"
   ]
  },
  {
   "cell_type": "markdown",
   "metadata": {},
   "source": [
    "And just like normal variables, these structs can be initialized with constant expressions as part of a variable declaration:"
   ]
  },
  {
   "cell_type": "code",
   "execution_count": null,
   "metadata": {},
   "outputs": [],
   "source": [
    "struct point estick = { 320, 200, 100 }; // sure, that'll work"
   ]
  },
  {
   "cell_type": "markdown",
   "metadata": {},
   "source": [
    "And we can initialize a a struct after declaration, if we *cast* the expression to the type:"
   ]
  },
  {
   "cell_type": "code",
   "execution_count": null,
   "metadata": {},
   "outputs": [],
   "source": [
    "struct 2dpoint noodle;\n",
    "\n",
    "point4 = { 100, 200, 50 } // not like this\n",
    "\n",
    "point4 = (struct point) {100, 200, 50 }; // like this"
   ]
  },
  {
   "cell_type": "markdown",
   "metadata": {},
   "source": [
    "#### Type Casting\n",
    "The structure in the above uses the *casting* operator to change the type of `point4`. \n",
    "\n",
    "We can also use `typedef` to make a synonymous declaration for a struct:"
   ]
  },
  {
   "cell_type": "code",
   "execution_count": null,
   "metadata": {},
   "outputs": [],
   "source": [
    "struct 3dpoint{\n",
    "    int x;\n",
    "    int y;\n",
    "    int z;\n",
    "};\n",
    "\n",
    "typedef struct 3dpoint pointy;"
   ]
  },
  {
   "cell_type": "markdown",
   "metadata": {},
   "source": [
    "wherein we have `pointy` now as an alias or synonym for `3dpoint`. This also **does not** generate a variable with type `pointy` or `struct point`. We can now use `pointy` anywhere we might have used `3dpoint`."
   ]
  },
  {
   "cell_type": "markdown",
   "metadata": {},
   "source": [
    "Structures, when passed into functions, are *passed by value*. Structure members (x, y, z above) can be accessed individuially. Structures can be copied and assigned. Structures can be returned by functions."
   ]
  },
  {
   "cell_type": "code",
   "execution_count": null,
   "metadata": {},
   "outputs": [],
   "source": [
    "point4.x // the x-value of point 4\n",
    "\n",
    "point4.x = point4.x + 20; // add twenty to point4's x value\n",
    "\n",
    "point3.y += 30; // add thirty to point3's y value\n",
    "\n",
    "point2[z]; // this won't work\n",
    "           // cannot subscript a structure like an array"
   ]
  },
  {
   "cell_type": "code",
   "execution_count": null,
   "metadata": {},
   "outputs": [],
   "source": [
    "point1.x = 200;\n",
    "point1.y = 100;\n",
    "point1.z = 50;\n",
    "\n",
    "point2 = point1; // point2 is a new point with the same location as point1"
   ]
  },
  {
   "cell_type": "markdown",
   "metadata": {},
   "source": [
    "The following code uses a struct which contains both an integer student number and an array of marks - recall that members need not be of the same type."
   ]
  },
  {
   "cell_type": "code",
   "execution_count": 7,
   "metadata": {},
   "outputs": [
    {
     "name": "stdout",
     "output_type": "stream",
     "text": [
      "student ID: 100500800\n",
      "mark [0] = 70.00\n",
      "mark [1] = 71.00\n",
      "mark [2] = 72.00\n",
      "mark [3] = 73.00\n",
      "mark [4] = 74.00\n",
      "\n",
      "======================\n",
      "\n",
      "student ID: 100500800\n",
      "mark [0] = 80.00\n",
      "mark [1] = 81.00\n",
      "mark [2] = 82.00\n",
      "mark [3] = 83.00\n",
      "mark [4] = 84.00\n"
     ]
    }
   ],
   "source": [
    "#include <stdio.h>\n",
    "#include <stdlib.h>\n",
    "\n",
    "const int SIZE = 5;   // Maximum array size\n",
    "\n",
    "typedef struct \n",
    "{\n",
    "    int id;\n",
    "    float mark [5];\n",
    "} student_t;\n",
    "\n",
    "void change_marks(float marks[], int SIZE)\n",
    "{\n",
    "    for (int i = 0; i < SIZE; i++)\n",
    "    {\n",
    "        marks[i] = marks[i] + 10;\n",
    "    }\n",
    "}\n",
    "\n",
    "\n",
    "int main (void)\n",
    "{\n",
    "    student_t student1;         // A structure consists of an array\n",
    "    int i;                        // loop index\n",
    "\n",
    "    // Initialize the array in the structure\n",
    "    student1.id = 100500800;\n",
    "    for (i = 0; i < SIZE; i++) {\n",
    "        student1.mark [i] = i + 70;\n",
    "    }\n",
    "\n",
    "    // Print the array of structures - points\n",
    "    printf (\"student ID: %d\\n\", student1.id);\n",
    "    for (i = 0; i < SIZE; i++) {\n",
    "        printf(\"mark [%d] = %.2f\\n\", i, student1.mark[i]);\n",
    "    }\n",
    "    \n",
    "    change_marks(student1.mark, 5);\n",
    "    \n",
    "    printf(\"\\n======================\\n\\n\"); // separator line\n",
    "    \n",
    "    // Print the array of structures again after changing\n",
    "    printf (\"student ID: %d\\n\", student1.id);\n",
    "    for (i = 0; i < SIZE; i++) {\n",
    "        printf(\"mark [%d] = %.2f\\n\", i, student1.mark[i]);\n",
    "    }\n",
    "\n",
    "    return 0;\n",
    "}"
   ]
  },
  {
   "cell_type": "markdown",
   "metadata": {},
   "source": [
    "But what if we changed the function such that it took the whole `student` struct, rather than just the `mark` array?"
   ]
  },
  {
   "cell_type": "code",
   "execution_count": 8,
   "metadata": {},
   "outputs": [
    {
     "name": "stdout",
     "output_type": "stream",
     "text": [
      "student ID: 100500800\n",
      "mark [0] = 70.00\n",
      "mark [1] = 71.00\n",
      "mark [2] = 72.00\n",
      "mark [3] = 73.00\n",
      "mark [4] = 74.00\n",
      "\n",
      "======================\n",
      "\n",
      "student ID: 100500800\n",
      "mark [0] = 70.00\n",
      "mark [1] = 71.00\n",
      "mark [2] = 72.00\n",
      "mark [3] = 73.00\n",
      "mark [4] = 74.00\n"
     ]
    }
   ],
   "source": [
    "#include <stdio.h>\n",
    "#include <stdlib.h>\n",
    "\n",
    "const int SIZE = 5;   // Maximum array size\n",
    "\n",
    "typedef struct \n",
    "{\n",
    "    int id;\n",
    "    float mark [5];\n",
    "} student_t;\n",
    "\n",
    "void change_marks(student_t student, int SIZE)\n",
    "{\n",
    "    for (int i = 0; i < SIZE; i++)\n",
    "    {\n",
    "        student.mark[i] = student.mark[i] + 10;\n",
    "    }\n",
    "}\n",
    "\n",
    "\n",
    "int main (void)\n",
    "{\n",
    "    student_t student1;         // A structure conssits of an array\n",
    "    int i;                        // loop index\n",
    "\n",
    "    // Initialize the array in the structure\n",
    "    student1.id = 100500800;\n",
    "    for (i = 0; i < SIZE; i++) {\n",
    "        student1.mark [i] = i + 70;\n",
    "    }\n",
    "\n",
    "    // Print the array of structures - points\n",
    "    printf (\"student ID: %d\\n\", student1.id);\n",
    "    for (i = 0; i < SIZE; i++) {\n",
    "        printf(\"mark [%d] = %.2f\\n\", i, student1.mark[i]);\n",
    "    }\n",
    "    \n",
    "    change_marks(student1, 5);\n",
    "    \n",
    "    printf(\"\\n======================\\n\\n\"); // separator line\n",
    "    \n",
    "    // Print the array of structures again after changing\n",
    "    printf (\"student ID: %d\\n\", student1.id);\n",
    "    for (i = 0; i < SIZE; i++) {\n",
    "        printf(\"mark [%d] = %.2f\\n\", i, student1.mark[i]);\n",
    "    }\n",
    "\n",
    "    return 0;\n",
    "}"
   ]
  },
  {
   "cell_type": "markdown",
   "metadata": {},
   "source": [
    "Because the marks array was passed into the function *by reference*, it changed the array in place. The struct is passed into the function *by value*, so the array is changed only in function scope and the global array remains **unchanged!**"
   ]
  },
  {
   "cell_type": "markdown",
   "metadata": {},
   "source": [
    "## Structures and Functions"
   ]
  },
  {
   "cell_type": "code",
   "execution_count": 1,
   "metadata": {},
   "outputs": [
    {
     "name": "stderr",
     "output_type": "stream",
     "text": [
      "[C kernel] GCC exited with code 1, the executable will not be executed"
     ]
    }
   ],
   "source": [
    "// declaration\n",
    "3dpoint make3dpoint( int x, int y, int z)\n",
    "{\n",
    "    3dpoint temp;\n",
    "    \n",
    "    temp.x = x;\n",
    "    temp.y = y;\n",
    "    temp.z = z;\n",
    "    \n",
    "    return temp;\n",
    "}\n",
    "\n",
    "// more concisely\n",
    "3dpoint make3dpoint( int x, int y, int z)\n",
    "{\n",
    "    return (point_t) { x, y };\n",
    "}\n",
    "\n",
    "// typical call\n",
    "int a, b;\n",
    "\n",
    "3dpoint pointy;\n",
    "\n",
    "a = 300;\n",
    "b = 200;\n",
    "\n",
    "pointy = makepoint(a, b);"
   ]
  },
  {
   "cell_type": "code",
   "execution_count": null,
   "metadata": {},
   "outputs": [],
   "source": [
    "#include <stdio.h>\n",
    "#include <stdlib.h>\n",
    "\n",
    "struct 2dpoint\n",
    "{\n",
    "    int x;\n",
    "    int y;\n",
    "};\n",
    "\n",
    "2dpont makepoint(int x, int y)\n",
    "{\n",
    "    return (2dpoint) { x, y }; // cast to 2dpoint using the casting operator\n",
    "}\n",
    "\n",
    "2dpoint addpoints(2dpoint pt1, 2dpoint pt2)\n",
    "{\n",
    "    pt1.x = pt1.x + pt2.x; // pt1 won't be modified because it is passed by value!\n",
    "    pt1.y = pt1.y + pt2.y;\n",
    "}\n",
    "\n",
    "int main (void)\n",
    "{\n",
    "    \n",
    "}\n"
   ]
  }
 ],
 "metadata": {
  "kernelspec": {
   "display_name": "C",
   "language": "c",
   "name": "c"
  },
  "language_info": {
   "file_extension": ".c",
   "mimetype": "text/plain",
   "name": "c"
  }
 },
 "nbformat": 4,
 "nbformat_minor": 2
}
