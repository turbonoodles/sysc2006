{
 "cells": [
  {
   "cell_type": "markdown",
   "metadata": {},
   "source": [
    "## Pointers and Structures\n",
    "\n",
    "The `&` operator can be applied to structures:"
   ]
  },
  {
   "cell_type": "code",
   "execution_count": null,
   "metadata": {},
   "outputs": [],
   "source": [
    "point_t* ptr;\n",
    "\n",
    "point_t point1 = {320, 200};\n",
    "\n",
    "ptr = &point1;"
   ]
  },
  {
   "cell_type": "markdown",
   "metadata": {},
   "source": [
    "The variable `ptr` now contains the address of the first byte in memory allocated to `point1`."
   ]
  },
  {
   "cell_type": "markdown",
   "metadata": {},
   "source": [
    "`*ptr` is the entire structure. `(*ptr).x` and `(*ptr).x` are the members of the structure pointed to. We need parentheses; the dot operator has higher precedence than the content-of operator.\n",
    "\n",
    "If `ptr` is a pointer to a structure, then `ptr -> member` is a shorthand for `(*ptr).member`."
   ]
  },
  {
   "cell_type": "markdown",
   "metadata": {},
   "source": [
    "#### But why?\n",
    "\n",
    "Don't pass large structures as function arguments:\n",
    "\n",
    "* Forces pass-by-*value* semantics  \n",
    "\n",
    "* Copying an entire structure requires time and memory  \n",
    "\n",
    "Instead, pass *pointers to structures* as function arguments."
   ]
  },
  {
   "cell_type": "markdown",
   "metadata": {},
   "source": [
    "### addpoints\n",
    "\n",
    "This function changes the structure pointed to by the parameter `ptr1`:"
   ]
  },
  {
   "cell_type": "code",
   "execution_count": 6,
   "metadata": {},
   "outputs": [
    {
     "name": "stdout",
     "output_type": "stream",
     "text": [
      "point a is now [6, 8]"
     ]
    }
   ],
   "source": [
    "#include <stdio.h>\n",
    "#include <stdlib.h>\n",
    "\n",
    "typedef struct{\n",
    "    int x;\n",
    "    int y;\n",
    "} point_t;\n",
    "\n",
    "void addpoints(point_t *ptr1, const point_t *ptr2) // const avoids changing points we don't mean to\n",
    "{\n",
    "    ptr1->x = ptr1->x + ptr2->x;\n",
    "    ptr1->y = ptr1->y + ptr2->y;\n",
    "}\n",
    "\n",
    "int main()\n",
    "{\n",
    "    point_t a = {2, 3};\n",
    "    point_t b = {4, 5};\n",
    "    \n",
    "    addpoints(&a, &b);\n",
    "    \n",
    "    printf(\"point a is now [%d, %d]\", a.x, a.y);\n",
    "    \n",
    "    return EXIT_SUCCESS;\n",
    "}"
   ]
  },
  {
   "cell_type": "markdown",
   "metadata": {},
   "source": [
    "Alternately, we can avoid modifying `a` if we give another struct, `sum`, to put the result in:"
   ]
  },
  {
   "cell_type": "code",
   "execution_count": 9,
   "metadata": {},
   "outputs": [
    {
     "name": "stdout",
     "output_type": "stream",
     "text": [
      "sum is [6, 8]"
     ]
    }
   ],
   "source": [
    "#include <stdio.h>\n",
    "#include <stdlib.h>\n",
    "\n",
    "typedef struct{\n",
    "    int x;\n",
    "    int y;\n",
    "} point_t;\n",
    "\n",
    "void addpoints(const point_t* ptr1, const point_t* ptr2, point_t* sum) // const avoids changing points we don't mean to\n",
    "{\n",
    "    sum->x = ptr1->x + ptr2->x;\n",
    "    sum->y = ptr1->y + ptr2->y;\n",
    "}\n",
    "\n",
    "int main()\n",
    "{\n",
    "    point_t a = {2, 3};\n",
    "    point_t b = {4, 5};\n",
    "    point_t out; // output\n",
    "    \n",
    "    addpoints(&a, &b, &out); // so pointy\n",
    "    \n",
    "    printf(\"sum is [%d, %d]\", out.x, out.y);\n",
    "    \n",
    "    return EXIT_SUCCESS;\n",
    "}"
   ]
  },
  {
   "cell_type": "markdown",
   "metadata": {},
   "source": [
    "#### Returning a Pointer\n",
    "\n",
    "Rewrite `addpoints()` so that it returns a pointer to a `point_t` structure containing the sum of the two points."
   ]
  },
  {
   "cell_type": "code",
   "execution_count": 14,
   "metadata": {},
   "outputs": [
    {
     "name": "stderr",
     "output_type": "stream",
     "text": [
      "/tmp/tmp9vfd7zu4.c: In function ‘addpoints’:\n",
      "/tmp/tmp9vfd7zu4.c:16:12: warning: function returns address of local variable [-Wreturn-local-addr]\n",
      "     return &sum; // return the address of the sum\n",
      "            ^~~~\n",
      "[C kernel] Executable exited with code -11"
     ]
    }
   ],
   "source": [
    "#include <stdio.h>\n",
    "#include <stdlib.h>\n",
    "\n",
    "typedef struct{\n",
    "    int x;\n",
    "    int y;\n",
    "} point_t;\n",
    "\n",
    "point_t* addpoints(const point_t* ptr1, const point_t* ptr2) // const avoids changing points we don't mean to\n",
    "{\n",
    "    point_t sum;\n",
    "    \n",
    "    sum.x = ptr1->x + ptr2->x;\n",
    "    sum.y = ptr1->y + ptr2->y;\n",
    "    \n",
    "    return &sum; // return the address of the sum\n",
    "}\n",
    "\n",
    "int main()\n",
    "{\n",
    "    point_t a = {2, 3};\n",
    "    point_t b = {4, 5};\n",
    "    \n",
    "    point_t* result = addpoints(&a, &b); // so pointy\n",
    "    \n",
    "    printf(\"sum is [%d, %d]\", (*result).x, (*result).y);\n",
    "    \n",
    "    return EXIT_SUCCESS;\n",
    "}"
   ]
  },
  {
   "cell_type": "markdown",
   "metadata": {},
   "source": [
    "This fails to compile because `sum` is a local variable and will be *deallocated* as soon as `addpoints()` exits. This leaves a pointer to a structure that *does not exist!*. 💩\n",
    "\n",
    "The correct way to do this is to allocate the structure on the **heap**, rather than on the stack."
   ]
  }
 ],
 "metadata": {
  "kernelspec": {
   "display_name": "C",
   "language": "c",
   "name": "c"
  },
  "language_info": {
   "file_extension": ".c",
   "mimetype": "text/plain",
   "name": "c"
  }
 },
 "nbformat": 4,
 "nbformat_minor": 2
}
