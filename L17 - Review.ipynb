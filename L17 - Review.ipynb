{
 "cells": [
  {
   "cell_type": "markdown",
   "metadata": {},
   "source": [
    "# Lecture 17\n",
    "\n",
    "* an old final will be posted online\n",
    "* last PASS workshops this weekend\n",
    "\n",
    "## Final Exam Information\n",
    " \n",
    "* thirty-something questions, all multiple choice, on scantron\n",
    "\n",
    "* part B is 2pts/question, part A 1pt/question\n",
    "\n",
    "* no intentional syntax errors on any questions\n",
    "    \n",
    "    * no case sensitivity nonsense\n",
    "\n",
    "* \"no intentionally tricky questions\" he says\n",
    "\n",
    "* all the questions are covered by lectures and/or labs\n",
    "\n",
    "* take my point: point out that there are many points on pointers"
   ]
  },
  {
   "cell_type": "markdown",
   "metadata": {},
   "source": [
    "## Exam review\n",
    "\n",
    "### Imperative Programming\n",
    "\n",
    "* what is imperative programming?\n",
    "\n",
    "* basics:\n",
    "\n",
    "    * operators\n",
    "    \n",
    "    * declarations, statements:\n",
    "    \n",
    "        * loops, if, nested if, nested loops\n",
    "    \n",
    "    * arrays\n",
    "    \n",
    "    * structures\n",
    "    \n",
    "    * pointers\n",
    "    \n",
    "    * function calls\n",
    "    \n",
    "        * pass by reference vs. pass by value\n",
    "        \n",
    "* pointers\n",
    "    \n",
    "    * what? why? how? applications?\n",
    "    \n",
    "    * pointers and:\n",
    "    \n",
    "        * arrays\n",
    "        \n",
    "            * pass by reference\n",
    "            \n",
    "            * using `const` to avoid accidentally changing stuff\n",
    "        \n",
    "        * structures\n",
    "        \n",
    "        * struct consists of an array\n",
    "        \n",
    "        * stuct consists of another struct\n",
    "        \n"
   ]
  },
  {
   "cell_type": "code",
   "execution_count": null,
   "metadata": {},
   "outputs": [],
   "source": [
    "// fun with pass by reference\n",
    "\n",
    "int addList(int [], int);\n",
    "int addElement(int);\n",
    "\n",
    "int main(void)\n",
    "{\n",
    "    int list[3] = {100, 200, 300};\n",
    "    \n",
    "    addList(list, 0);\n",
    "    printf(\"list[0]: %d\\n\", list[0]); // point one\n",
    "    \n",
    "    addElement(list, 1);\n",
    "    printf(\"l)\n",
    "}"
   ]
  },
  {
   "cell_type": "code",
   "execution_count": null,
   "metadata": {},
   "outputs": [],
   "source": [
    "// struct in struct\n",
    "\n",
    "#include <stdio.h>\n",
    "#include <string.h>\n",
    "\n",
    "struct stud_course_t\n",
    "{\n",
    "    int credit;\n",
    "    char crs_title[50];\n",
    "};\n",
    "\n",
    "struct student_t\n",
    "{\n",
    "    int id;\n",
    "    char name[20];\n",
    "    float percentage;\n",
    "    \n",
    "    struct struct_course_t crs_data;\n",
    "} stud_data;\n",
    "\n",
    "int main()\n",
    "{\n",
    "    struct\n",
    "}"
   ]
  },
  {
   "cell_type": "code",
   "execution_count": null,
   "metadata": {},
   "outputs": [],
   "source": [
    "typedef struct\n",
    "{\n",
    "    int id;\n",
    "    char courses[30][50]; // 30 strings (courses), max 50 chars per string\n",
    "}student_t;\n",
    "\n",
    "student_t students[200]; // array of 200 students\n",
    "\n",
    "printf(\"%s\\n\", students[i].courses[1]);"
   ]
  },
  {
   "cell_type": "markdown",
   "metadata": {},
   "source": [
    "* Big O notation for algorithm complexity\n",
    "    \n",
    "    * describes how algorithm complexity in terms of running time and space\n",
    "    \n"
   ]
  },
  {
   "cell_type": "code",
   "execution_count": null,
   "metadata": {},
   "outputs": [],
   "source": [
    "// big O examples\n",
    "\n",
    "float a1[n]; // assume defined\n",
    "\n",
    "// completes in O(n)\n",
    "for (int i = 0; i<n; i++)\n",
    "{\n",
    "    do_something(); \n",
    "}\n",
    "\n",
    "float a2 [m][n]; // again assume defined\n",
    "\n",
    "// completes in O(n^2)\n",
    "for (int i=0; i<n; i++)\n",
    "{\n",
    "    for (int k = 0, k<m, k++);\n",
    "    {\n",
    "        do_something();\n",
    "    }\n",
    "}"
   ]
  },
  {
   "cell_type": "markdown",
   "metadata": {},
   "source": [
    "## Recursion\n",
    "\n",
    "* be careful tracing multiple recursive cases\n",
    "   \n",
    "    * easy to get lost..."
   ]
  },
  {
   "cell_type": "code",
   "execution_count": null,
   "metadata": {},
   "outputs": [],
   "source": [
    "// traverse a tree using recursion (not a complete function)\n",
    "\n",
    "... traverse_tree (tree_t start)\n",
    "{\n",
    "    if (start->left == NULL)\n",
    "    {\n",
    "        return start;\n",
    "    }\n",
    "    traverse_tree(start->left);\n",
    "    // do something\n",
    "    traverse_tree(start->right);\n",
    "    ...\n",
    "}\n",
    "\n",
    "void main(){\n",
    "    traverse_tree(root);\n",
    "}"
   ]
  }
 ],
 "metadata": {
  "kernelspec": {
   "display_name": "C",
   "language": "c",
   "name": "c"
  },
  "language_info": {
   "file_extension": ".c",
   "mimetype": "text/plain",
   "name": "c"
  }
 },
 "nbformat": 4,
 "nbformat_minor": 2
}
