{
 "cells": [
  {
   "cell_type": "markdown",
   "metadata": {},
   "source": [
    "# Course introduction - SYSC2006C\n",
    "\n",
    "## Fundamentals of Imperative Programming - Prof. Lung\n",
    "\n",
    "**PASS** is offered for this course - I feel like it might help....\n",
    "\n",
    "**Email** from Carleton email address, with SYSC2006 in the subject line. Check Announcements on CULearn before emailing for FAQs.\n",
    "\n",
    "### Textbook\n",
    "\n",
    "*How to Think Like a Computer Scientist*, version 1.09, Downey and Scheffler. Free PDF. Find in Course Files/SYSC2006\n",
    "\n",
    "### Labs\n",
    "\n",
    "Labs will be posted the Friday before the lab. Labs must be submitted before 11:55pm on Sunday. If the lab is complete, there is no requirement to attend the lab session. Will be finalized by Friday September 6.\n",
    "\n",
    "Do Lab 0 before the first actual lab session. Lab sessions start Monday, September 9.\n",
    "\n",
    "No lab exams. Labs are satisfactory, marginal, or unsatisfactory. Satisfactory for clear progress toward a solution = 100%."
   ]
  },
  {
   "cell_type": "markdown",
   "metadata": {},
   "source": [
    "# Imperative Programming Concepts\n",
    "**Imperative programming** is a programming paradigm in which computation is specified in terms of program *state* and statements that change program state - a program's state is the contents of its variables at any point in its execution.\n",
    "\n",
    "The program consists of a sequence of commands for the computer to perform.\n",
    "\n",
    "An imperative programming language:\n",
    "* has constructs that control the order operations are performed in;\n",
    "* allows *side effects* - state can be modified at different points in execution\n",
    "    * side effects can be significant in programs with low-level control\n",
    "\n",
    "Two common programming paradigms based on imperative programming are *procedural programming* and *object-oriented programming*.\n",
    "\n",
    "##### Procedural Programming \n",
    "Program commands are grouped into procedures, functions and subroutines. Procedures in this paradigm are not grouped with program state; variables exist entirely outside the instructions and just have stuff done to them.\n",
    "\n",
    "##### Object oriented Programming\n",
    "Instructions are grouped based on the state they operate on; objects encapsulate both data and instructions. Object state is only modified by code that is part of the object.\n",
    "\n",
    "### Concepts\n",
    "\n",
    "Program state is maintained using *variables*. Assignment statements change the values associated with a variable. By default, statements are executed sequentially from a starting point except when encountering a goto or a function call.\n",
    "\n",
    "A *loop* executes a sequence of statements multiple times. We may control loop execution:\n",
    "* early exit from the loop (break)\n",
    "* skip execution of the remainder of the loop body, continue at next iteration (continue)\n",
    "\n",
    "A *conditional branch* executes a sequence of statements only if a specified condiiton is true. *Unconditional branching* includes gotos, subprograms, functions, and procedures. Other constructs - generators, coroutines - will not be covered in this course.\n",
    "\n",
    "The primary language in this course is C, but the course is about *the fundamental concepts of imperative programming*. These concepts apply equally to all modern languages (Python, Go, Rust...). We may look at Go.\n",
    "\n",
    "### Why use C?\n",
    "* one of the most popular languages\n",
    "    * even though it's old af\n",
    "    * Thompson and Ritchie, Turing Award, yada yada\n",
    "* small compared to Java or C++ (microcontrollers!)\n",
    "* good for learning how to manage memory of an executing program\n",
    "    * not abstracted by the compiler/interpreter\n",
    "    * we must allocate and deallocate memory on the heap\n",
    "* commonly used in operating systems, networking equipment, and embedded systems"
   ]
  },
  {
   "cell_type": "code",
   "execution_count": null,
   "metadata": {},
   "outputs": [],
   "source": []
  }
 ],
 "metadata": {
  "kernelspec": {
   "display_name": "C",
   "language": "c",
   "name": "c"
  },
  "language_info": {
   "file_extension": ".c",
   "mimetype": "text/plain",
   "name": "c"
  }
 },
 "nbformat": 4,
 "nbformat_minor": 2
}
