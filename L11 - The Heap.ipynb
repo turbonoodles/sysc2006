{
 "cells": [
  {
   "cell_type": "markdown",
   "metadata": {},
   "source": [
    "## The Heap and Dynamically Allocated Memory\n",
    "\n",
    "All the variables we have discussed are stored on the *stack*. Stack memory is highly ordered (specifically, it is last-in first-out); we must specify exactly how big an item is before we allocate it on stack (note that we always have to tell C how big our array is at initialization, or declare a type). Memory is provided to these variables automatically and it is released automatically when the program (or function) exits.\n",
    "\n",
    "A C program also has access to a region of memory known as the *heap*. The heap is *not* used for variables; we cannot specify that a variable is stored on the heap. Heap memory is allocated *dynamically* - you must call a function to allocate memory on heap. The heap is also free on all limits of size - OS software generally imposes stack size limits.\n",
    "\n",
    "We manage memory on the heap with functions `malloc`, `calloc`, `realloc` and `free`. Variables on the heap are accessed using pointers. (Note that these pointers are themselves stored on the stack.) Because we use pointers, we can store state in heap variables regardless of the scope where these variables are modified.\n",
    "\n",
    "#### tl;dr \n",
    "* the heap is most useful for\n",
    "    * very large arrays and structs\n",
    "    * variables, structs and arrays that must remain accessible to all scopes\n",
    "    * arrays and structs that can change size (not possible on stack!)\n",
    "* otherwise, use stack - it's easier and accesses faster"
   ]
  },
  {
   "cell_type": "code",
   "execution_count": 5,
   "metadata": {},
   "outputs": [
    {
     "name": "stdout",
     "output_type": "stream",
     "text": [
      "heapy p = 3"
     ]
    }
   ],
   "source": [
    "// allocate a block of memory on the heap to hold one int\n",
    "\n",
    "#include <stdlib.h>\n",
    "#include <stdio.h>\n",
    "\n",
    "    int main(){\n",
    "\n",
    "    int *p;\n",
    "\n",
    "    p = malloc(sizeof(int));\n",
    "\n",
    "    if ( p != NULL )\n",
    "    {\n",
    "        *p = 3;\n",
    "    }\n",
    "    else\n",
    "    {\n",
    "        abort(); // failed to allocate memory\n",
    "    }\n",
    "    \n",
    "    printf(\"heapy p = %d\", *p);\n",
    "\n",
    "}"
   ]
  },
  {
   "cell_type": "markdown",
   "metadata": {},
   "source": [
    "### `malloc(size_t size)`\n",
    "* allocates a block of memory of specified size, from the heap\n",
    "    * the memory is *uninitialized*\n",
    "* returns a pointer to the allocated block\n",
    "    * if memory *cannot* be allocated, returns NULL (the null pointer value)"
   ]
  },
  {
   "cell_type": "markdown",
   "metadata": {},
   "source": [
    "### `sizeof(type_name)`\n",
    "* calculates the amount of memory required to hold one value of the specified type"
   ]
  },
  {
   "cell_type": "markdown",
   "metadata": {},
   "source": [
    "### `assert( expression )`\n",
    "- if `expression` is true, continue program execution as normal  \n",
    "    - if false; display a descriptive message and terminate the program\n",
    "- must include `<assert.h>` to use"
   ]
  },
  {
   "cell_type": "markdown",
   "metadata": {},
   "source": [
    "### `free(*ptr)`\n",
    "* de-allocate memory from a variable stored on the heap\n",
    "* memory is not automatically de-allocated, as on the stack\n",
    "    * you must call `free()` to be able to re-use heap memory\n",
    "    * failure to call `free()` on heap variables results in a *memory leak*"
   ]
  },
  {
   "cell_type": "code",
   "execution_count": 6,
   "metadata": {},
   "outputs": [
    {
     "name": "stderr",
     "output_type": "stream",
     "text": [
      "tmp87f9prn1.out: /tmp/tmp4kfwiey6.c:10: main: Assertion `x == y' failed.\n",
      "[C kernel] Executable exited with code -6"
     ]
    }
   ],
   "source": [
    "#include <stdlib.h>\n",
    "#include <assert.h>\n",
    "\n",
    "int main()\n",
    "{\n",
    "    int x = 1;\n",
    "    int y = 2;\n",
    "    \n",
    "    assert(x == y); // lol nope\n",
    "    \n",
    "    return EXIT_SUCCESS;\n",
    "}"
   ]
  },
  {
   "cell_type": "code",
   "execution_count": 10,
   "metadata": {},
   "outputs": [
    {
     "name": "stdout",
     "output_type": "stream",
     "text": [
      "heapy p = 3"
     ]
    }
   ],
   "source": [
    "// allocate a block of memory on the heap to hold one int, assert-style\n",
    "\n",
    "#include <stdlib.h>\n",
    "#include <stdio.h>\n",
    "#include <assert.h>\n",
    "\n",
    "int main()\n",
    "{\n",
    "    \n",
    "    int* p = malloc(sizeof(int));\n",
    "    assert(p != NULL); // not the null pointer\n",
    "    \n",
    "    *p = 3;\n",
    "    \n",
    "    printf(\"heapy p = %d\", *p);\n",
    "\n",
    "}"
   ]
  },
  {
   "cell_type": "code",
   "execution_count": 23,
   "metadata": {},
   "outputs": [
    {
     "name": "stdout",
     "output_type": "stream",
     "text": [
      "norm pointy = 3.741657"
     ]
    }
   ],
   "source": [
    "// redo makepoint by allocating point_t on the heap\n",
    "//%cflags:-lm\n",
    "\n",
    "#include <stdlib.h>\n",
    "#include <stdio.h>\n",
    "#include <assert.h>\n",
    "#include <math.h>\n",
    "\n",
    "typedef struct {\n",
    "    int x;\n",
    "    int y;\n",
    "    int z;\n",
    "} point_t;\n",
    "\n",
    "point_t *makepoint( int x, int y, int z )\n",
    "{\n",
    "    point_t *ptr = malloc(sizeof(point_t));\n",
    "    assert(ptr != NULL);\n",
    "    ptr -> x = x;\n",
    "    ptr -> y = y;\n",
    "    ptr -> z = z;\n",
    "    return ptr;\n",
    "}\n",
    "\n",
    "int main()\n",
    "{\n",
    "    point_t* pointy = makepoint( 1, 2, 3 );\n",
    "    \n",
    "    float norm = sqrt( pow(pointy->x, 2) + pow(pointy->y, 2) + pow(pointy->z, 2) );\n",
    "    \n",
    "    printf(\"norm pointy = %f\", norm);\n",
    "    \n",
    "    free(pointy);\n",
    "    \n",
    "    return EXIT_SUCCESS;\n",
    "}"
   ]
  },
  {
   "cell_type": "code",
   "execution_count": null,
   "metadata": {},
   "outputs": [],
   "source": []
  }
 ],
 "metadata": {
  "kernelspec": {
   "display_name": "C",
   "language": "c",
   "name": "c"
  },
  "language_info": {
   "file_extension": ".c",
   "mimetype": "text/plain",
   "name": "c"
  }
 },
 "nbformat": 4,
 "nbformat_minor": 2
}
