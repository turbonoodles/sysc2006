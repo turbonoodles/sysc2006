{
 "cells": [
  {
   "cell_type": "markdown",
   "metadata": {},
   "source": [
    "# Strings\n",
    "\n",
    "Unlike Python and C++, C does *not* have a string type. Strings are implemented as arrays of characters, terminated with a `\\0` or *null character*. Upon declaration, the C compiler will create *and initialize* the array.\n",
    "\n",
    "Note that the null character is not the same as the \"0\" character or the `NULL` null pointer.\n",
    "\n",
    "The number of elements in a character array is one more than the number of characters it is initialized with, to accomodate the null character.\n",
    "\n",
    "C does not allow assinging a string literal into a character array.\n",
    "\n",
    "As with other variables, the `const` keyword tells the compiler that the variable is *immutable*. Attempting to write into or modify a `const`'d variable will generate an error.\n",
    "\n",
    "C operators are not overloaded to allow for string concatenation - you cannot `+` two strings together.\n"
   ]
  },
  {
   "cell_type": "markdown",
   "metadata": {},
   "source": [
    "## `strlen()`\n",
    "\n",
    "`size_t strlen(const char *s)`\n",
    "\n",
    "Returns the length of a string pointed to by s, not including the terminating null."
   ]
  },
  {
   "cell_type": "code",
   "execution_count": 36,
   "metadata": {},
   "outputs": [
    {
     "name": "stdout",
     "output_type": "stream",
     "text": [
      "5"
     ]
    }
   ],
   "source": [
    "#include <string.h>\n",
    "#include <stdio.h>\n",
    "\n",
    "void main()\n",
    "{\n",
    "    char greeting[] = \"Hello\";\n",
    "    size_t len;\n",
    "    len = strlen(greeting);\n",
    "    // returns 5 (not 6)\n",
    "    printf(\"%zd\", len); // use 'z' modifier to turn size_t to int, I guess\n",
    "}"
   ]
  },
  {
   "cell_type": "markdown",
   "metadata": {},
   "source": [
    "## `strcmp()`\n",
    "\n",
    "`int strcmp(const char *s, const char *t)`\n",
    "\n",
    "Compares the string pointed to by s to the string pointed to by t. Specifically, it returns whether the sum of the ASCII encodings in s is greater than t.\n",
    "\n",
    "Returns a positive value if `s > t`, zero if `s == t`, and a negative value if `s < t`."
   ]
  },
  {
   "cell_type": "code",
   "execution_count": null,
   "metadata": {},
   "outputs": [],
   "source": [
    "char name1[30];\n",
    "char name2[30];\n",
    "\n",
    "void main()\n",
    "{\n",
    "    // Initialization of name1 and name2\n",
    "    // not shown\n",
    "    if (strcmp(name1, name2) != 0) {\n",
    "    // strings are different\n",
    "    }\n",
    "}"
   ]
  },
  {
   "cell_type": "markdown",
   "metadata": {},
   "source": [
    "## `sprintf()`\n",
    "\n",
    "Similar to `printf()`, but stores the output in the first argument. Note that this will *not* output to the console."
   ]
  },
  {
   "cell_type": "code",
   "execution_count": 17,
   "metadata": {},
   "outputs": [
    {
     "name": "stdout",
     "output_type": "stream",
     "text": [
      "SYSC2006 F19\n",
      "SYSC2006 F19\n"
     ]
    }
   ],
   "source": [
    "#include <string.h> // library for fun string stuff\n",
    "#include <stdio.h>\n",
    "#include <stdlib.h>\n",
    "\n",
    "void main()\n",
    "{\n",
    "    const char str1[] = \"SYSC2006\";\n",
    "    const char str2[] = \"F19\";\n",
    "\n",
    "    printf(\"%s %s\\n\", str1, str2);\n",
    "\n",
    "    char msg[50];\n",
    "\n",
    "    sprintf(msg, \"%s %s\", str1, str2);\n",
    "    \n",
    "    printf(\"%s\\n\", msg);\n",
    "}"
   ]
  },
  {
   "cell_type": "markdown",
   "metadata": {},
   "source": [
    "## `sscanf()`\n",
    "\n",
    "Reads from the first argument, which should be a string. Can be used to parse function arguments."
   ]
  },
  {
   "cell_type": "code",
   "execution_count": 23,
   "metadata": {},
   "outputs": [
    {
     "name": "stdout",
     "output_type": "stream",
     "text": [
      "msg1 = SYSC2006 2019\n",
      "str1 = SYSC2006, year = 2019\n"
     ]
    }
   ],
   "source": [
    "#include <string.h>\n",
    "#include <stdio.h>\n",
    "#include <stdlib.h>\n",
    "\n",
    "void main()\n",
    "{\n",
    "    char msg1[] = \"SYSC2006 2019\";\n",
    "\n",
    "    printf(\"msg1 = %s\\n\", msg1);\n",
    "\n",
    "    int year;\n",
    "    char str1[22];\n",
    "    \n",
    "    sscanf(msg1, \"%s %d\", str1, &year);\n",
    "\n",
    "    printf(\"str1 = %s, year = %d\\n\", str1, year);\n",
    "}"
   ]
  },
  {
   "cell_type": "markdown",
   "metadata": {},
   "source": [
    "## TCP/IP Network Protocol Emulation\n",
    "\n",
    "A 4-tuple gets attached to a packet on the network:\n",
    "* source IP address\n",
    "\n",
    "* destination IP address\n",
    "\n",
    "* source port number\n",
    "\n",
    "* destination port number"
   ]
  },
  {
   "cell_type": "code",
   "execution_count": 26,
   "metadata": {},
   "outputs": [
    {
     "name": "stdout",
     "output_type": "stream",
     "text": [
      "msg = 10.1.1.1;10.2.2.2;4;200\n"
     ]
    }
   ],
   "source": [
    "#include <string.h>\n",
    "#include <stdio.h>\n",
    "#include <stdlib.h>\n",
    "\n",
    "// Encode a message ( mostly from the slides )\n",
    "\n",
    "char src[] = \"10.1.1.1\"; // Src IP addr\n",
    "char dst[] = \"10.2.2.2\"; // Dest IP addr\n",
    "int tos = 4; // Type of Service\n",
    "int msgLen = 200; // packet length\n",
    "\n",
    "void main()\n",
    "{\n",
    "    // somewhere to put our message\n",
    "    char msg[100];\n",
    "    \n",
    "    // semicolon separated string thing\n",
    "    sprintf(msg, \"%s;%s;%d;%d\", src, dst, tos, msgLen);\n",
    "\n",
    "    printf(\"msg = %s\\n\", msg);\n",
    "}"
   ]
  },
  {
   "cell_type": "code",
   "execution_count": 32,
   "metadata": {},
   "outputs": [
    {
     "name": "stdout",
     "output_type": "stream",
     "text": [
      "src = 10.1.1.1, dst = 10.2.2.2, tos = 4, len = 200\n",
      "\n"
     ]
    }
   ],
   "source": [
    "// Decode (parse) a message ( also mostly from the slides )\n",
    "#include <string.h>\n",
    "#include <stdio.h>\n",
    "#include <stdlib.h>\n",
    "\n",
    "char src[20];\n",
    "char dst[20];\n",
    "int tos;\n",
    "int len;\n",
    "\n",
    "// parse the message into several variables\n",
    "void main()\n",
    "{\n",
    "    // a message to decode\n",
    "    char msg[] = \"10.1.1.1;10.2.2.2;4;200\";\n",
    "    \n",
    "    sscanf(msg, \"%[^;];%[^;];%d;%d\", src, dst, &tos, &len);\n",
    "\n",
    "    printf(\"src = %s, dst = %s, tos = %d, len = %d\\n\\n\", src, dst, tos, len);\n",
    "}"
   ]
  }
 ],
 "metadata": {
  "kernelspec": {
   "display_name": "C",
   "language": "c",
   "name": "c"
  },
  "language_info": {
   "file_extension": ".c",
   "mimetype": "text/plain",
   "name": "c"
  }
 },
 "nbformat": 4,
 "nbformat_minor": 2
}
