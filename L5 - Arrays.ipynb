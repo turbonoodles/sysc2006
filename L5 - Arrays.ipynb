{
 "cells": [
  {
   "cell_type": "markdown",
   "metadata": {},
   "source": [
    "# Arrays\n",
    "\n",
    "An array allows us to represent many different variables using a single identifier.\n",
    "\n",
    "Upon creating an array, we need to decide what datatype the array contains. All elements in the array must have the same type. Individual array elements are accessed using the array's name and the position of the element in the array (its *index*). \n",
    "\n",
    "Indices range from **0** to **length - 1**: for example, an array of size 10 has indices ranging from 0 to *9*. In C, an index greater than the capacity will *access memory outside the array* - which is usually a bug, and will **not cause a compiler error in C!**"
   ]
  },
  {
   "cell_type": "code",
   "execution_count": null,
   "metadata": {},
   "outputs": [],
   "source": [
    "// don't run this\n",
    "#include <stdio.h>\n",
    "#include <stdlib.h>\n",
    "\n",
    "int main(){\n",
    "    int itemsList[4];\n",
    "    \n",
    "    for ( i = 0; i < 4; i++ ){\n",
    "    itemsList[i] = itemsList[i+1];\n",
    "    }\n",
    "}"
   ]
  },
  {
   "cell_type": "markdown",
   "metadata": {},
   "source": [
    "This is wrong, because the for loop must stop at **3**, not 4. This is a very common error.\n",
    "\n",
    "As in the above code, an array index can be an *expression*, not just a literal integer. This can even be a function call, so long as the function returns an integer."
   ]
  },
  {
   "cell_type": "code",
   "execution_count": null,
   "metadata": {},
   "outputs": [],
   "source": [
    "// don't run this\n",
    "#include <stdio.h>\n",
    "#include <stdlib.h>\n",
    "\n",
    "int main(){\n",
    "    int i = 3;\n",
    "    samples[i] = 5.2; // initialize fourth element\n",
    "    \n",
    "    i = 1;\n",
    "    samples[i]\n",
    "}"
   ]
  },
  {
   "cell_type": "markdown",
   "metadata": {},
   "source": [
    "A very common task is to iterate through the first $n$ elements in an array, doing something with each element."
   ]
  },
  {
   "cell_type": "code",
   "execution_count": 16,
   "metadata": {},
   "outputs": [
    {
     "name": "stdout",
     "output_type": "stream",
     "text": [
      "53.2600\n"
     ]
    }
   ],
   "source": [
    "#include <stdio.h>\n",
    "#include <stdlib.h>\n",
    "\n",
    "int main(){\n",
    "    double samples[100];\n",
    "    \n",
    "    srand(3); // random seed\n",
    "    \n",
    "    for (int i = 0; i < 100; i++){\n",
    "        samples[i] = rand() % 100 + 1; // \"random\" number generator\n",
    "    }\n",
    "    \n",
    "    // calculate the average\n",
    "    double sum;\n",
    "    double average;\n",
    "    \n",
    "    for (int k = 0; k < 100; k++){\n",
    "        sum = sum + samples[k];\n",
    "    }\n",
    "    \n",
    "    average = sum / 100;\n",
    "    \n",
    "    printf(\"%3.4f\\n\", average);\n",
    "    \n",
    "    return EXIT_SUCCESS;\n",
    "}"
   ]
  },
  {
   "cell_type": "markdown",
   "metadata": {},
   "source": [
    "We can take that average feature out and plonk it into a function. Note that if we are passing an array into a function, we will pass the array *by reference*, not by *value*. This means that if we modify the array inside the function's *local scope*, the values in the function *will be modified in the program's global scope as well*."
   ]
  },
  {
   "cell_type": "code",
   "execution_count": 15,
   "metadata": {},
   "outputs": [
    {
     "name": "stdout",
     "output_type": "stream",
     "text": [
      "53.260000\n"
     ]
    }
   ],
   "source": [
    "#include <stdio.h>\n",
    "#include <stdlib.h>\n",
    "\n",
    "double average_samples( double x[], int n ){\n",
    "    double sum = 0;\n",
    "    for ( int i = 0; i < n; i++ ){\n",
    "        sum  = sum + x[i];\n",
    "    }\n",
    "    return sum / n; // note we don't need a variable for the average\n",
    "}\n",
    "\n",
    "int main(){\n",
    "    double samples[100];\n",
    "    \n",
    "    srand(3); // random seed\n",
    "    \n",
    "    for (int i = 0; i < 100; i++){\n",
    "        samples[i] = rand() % 100 + 1; // \"random\" number generator\n",
    "    }\n",
    "    printf(\"%f\\n\", average_samples(samples,100));\n",
    "    return EXIT_SUCCESS;\n",
    "}"
   ]
  },
  {
   "cell_type": "markdown",
   "metadata": {},
   "source": [
    "Notice that we do not need to specify the array's capacity in the function declaration; the function will apply equally to all possible arrays of doubles. We give the function the number of elements it should process as a second integer parameter, *n*, as there is **no way to determine how many elements in the array have been initialized.**"
   ]
  },
  {
   "cell_type": "markdown",
   "metadata": {},
   "source": [
    "Note that we can pass a single array element by using the subscript:"
   ]
  },
  {
   "cell_type": "code",
   "execution_count": null,
   "metadata": {},
   "outputs": [],
   "source": [
    "// don't run this\n",
    "result = myFunction( samples[i] );"
   ]
  },
  {
   "cell_type": "markdown",
   "metadata": {},
   "source": [
    "When we do this; this element is now passed into myFunction **by value** and myFunction will **not** change the value of samples[i] in the global scope!"
   ]
  },
  {
   "cell_type": "markdown",
   "metadata": {},
   "source": [
    "## Functions Changing Arrays"
   ]
  },
  {
   "cell_type": "code",
   "execution_count": 18,
   "metadata": {},
   "outputs": [],
   "source": [
    "#include <stdio.h>\n",
    "#include <stdlib.h>\n",
    "\n",
    "void init_array( int arr[], int n, int initial ){\n",
    "    for ( int i = 0; i < n; i++ ){\n",
    "        arr[i] = initial;\n",
    "    }\n",
    "}\n",
    "\n",
    "int main(){\n",
    "\n",
    "    int numbers[10];\n",
    "    init_array(numbers, 5, 0);\n",
    "    \n",
    "    return EXIT_SUCCESS;\n",
    "}"
   ]
  },
  {
   "cell_type": "markdown",
   "metadata": {},
   "source": [
    "## Calculating Array Capacity\n",
    "\n",
    "The C function *sizeof* returns the amount of memory, in bytes, used for an object in memory. The following code calculates the capacity of an array by comparing the total memory occupied by an array with the memory occupied by a single element."
   ]
  },
  {
   "cell_type": "code",
   "execution_count": 20,
   "metadata": {},
   "outputs": [
    {
     "name": "stdout",
     "output_type": "stream",
     "text": [
      "10\n"
     ]
    }
   ],
   "source": [
    "#include <stdio.h>\n",
    "#include <stdlib.h>\n",
    "\n",
    "void init_array( int arr[], int n, int initial ){\n",
    "    for ( int i = 0; i < n; i++ ){\n",
    "        arr[i] = initial;\n",
    "    }\n",
    "}\n",
    "\n",
    "int main(){\n",
    "    int capacity;\n",
    "    int numbers[10];\n",
    "    \n",
    "    init_array(numbers, 5, 10);\n",
    "    \n",
    "    capacity = sizeof(numbers) / sizeof(numbers[0]);\n",
    "    \n",
    "    printf(\"%d\\n\", capacity);\n",
    "    \n",
    "    return EXIT_SUCCESS;\n",
    "}"
   ]
  },
  {
   "cell_type": "markdown",
   "metadata": {},
   "source": [
    "### This does not work\n",
    "\n",
    "If we pass an array into the function by reference, in the function scope we will end up with a *pointer* to the array, *not the entire array itself*. "
   ]
  },
  {
   "cell_type": "code",
   "execution_count": null,
   "metadata": {},
   "outputs": [],
   "source": [
    "#include <stdio.h>\n",
    "#include <stdlib.h>\n",
    "\n",
    "void init_array( int arr[], int n, int initial ){\n",
    "    \n",
    "    int n = sizeof(arr) / sizeof(arr[0]); // since arr is a pointer, n isn't the length of the array\n",
    "    \n",
    "    for ( int i = 0; i < n; i++ ){\n",
    "        arr[i] = initial;\n",
    "    }\n",
    "}"
   ]
  },
  {
   "cell_type": "markdown",
   "metadata": {},
   "source": [
    "## 2-dimensional Array\n",
    "\n",
    "Arrays in C can also be 2-dimensional. The following code generates a 10x10 identity matrix:"
   ]
  },
  {
   "cell_type": "code",
   "execution_count": 9,
   "metadata": {},
   "outputs": [
    {
     "name": "stdout",
     "output_type": "stream",
     "text": [
      " 1  0  0  0  0  0  0  0  0  0 \n",
      " 0  1  0  0  0  0  0  0  0  0 \n",
      " 0  0  1  0  0  0  0  0  0  0 \n",
      " 0  0  0  1  0  0  0  0  0  0 \n",
      " 0  0  0  0  1  0  0  0  0  0 \n",
      " 0  0  0  0  0  1  0  0  0  0 \n",
      " 0  0  0  0  0  0  1  0  0  0 \n",
      " 0  0  0  0  0  0  0  1  0  0 \n",
      " 0  0  0  0  0  0  0  0  1  0 \n",
      " 0  0  0  0  0  0  0  0  0  1 \n"
     ]
    }
   ],
   "source": [
    "#include <stdio.h>\n",
    "#include <stdlib.h>\n",
    "\n",
    "void main(void){\n",
    "\n",
    "    int matrix[10][10] = {0}; // a 5x5 matrix in 2d array, initialized to zero\n",
    "    \n",
    "    // generate the identity matrix\n",
    "    for (int row = 0; row < 10; row++)\n",
    "    {\n",
    "        matrix[row][row] = 1;\n",
    "    }\n",
    "    \n",
    "    // print the matrix\n",
    "    for (int row = 0; row < 10; row++ )\n",
    "    {\n",
    "        for (int col = 0; col < 10; col++ )\n",
    "        {\n",
    "            printf(\"%2d \", matrix[row][col]);\n",
    "        }\n",
    "        printf(\"\\n\");\n",
    "    }\n",
    "}"
   ]
  },
  {
   "cell_type": "code",
   "execution_count": null,
   "metadata": {},
   "outputs": [],
   "source": []
  }
 ],
 "metadata": {
  "kernelspec": {
   "display_name": "C",
   "language": "c",
   "name": "c"
  },
  "language_info": {
   "file_extension": ".c",
   "mimetype": "text/plain",
   "name": "c"
  }
 },
 "nbformat": 4,
 "nbformat_minor": 2
}
