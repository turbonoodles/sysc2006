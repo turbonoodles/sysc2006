{
 "cells": [
  {
   "cell_type": "markdown",
   "metadata": {},
   "source": [
    "# Introduction to C: Fundamental Concepts\n",
    "\n",
    "### PASS\n",
    "Sean Kirkby - SA402 Tuesday 6:00 to 7:30pm and PA218 Thursday 6:00 - 7:30, office hours Monday 3:30-4:30 in the 4th floor of the library\n",
    "\n",
    "### Midterm\n",
    "Saturday November 2 2019, 1:00-2:30 (tentative)\n",
    "\n",
    "### Lab Schedule\n",
    "Attendance at lab session is not mandatory but may be the difference between *marginal* and *unsat*. Do not attend lab sections that are not your own."
   ]
  },
  {
   "cell_type": "markdown",
   "metadata": {},
   "source": [
    "## Hello World in C"
   ]
  },
  {
   "cell_type": "code",
   "execution_count": 1,
   "metadata": {},
   "outputs": [
    {
     "name": "stdout",
     "output_type": "stream",
     "text": [
      "Hello World\n"
     ]
    }
   ],
   "source": [
    "/* Hello World in C */\n",
    "\n",
    "#include <stdio.h>\n",
    "#include <stdlib.h>\n",
    "\n",
    "int main(void){\n",
    "    printf(\"Hello World\\n\");\n",
    "    return EXIT_SUCCESS; /* */\n",
    "}"
   ]
  },
  {
   "cell_type": "markdown",
   "metadata": {},
   "source": [
    "#### Let's unpack that a bit\n",
    "\n",
    "**stdio.h** - contains I/O functions like *printf*\n",
    "**EXIT_SUCCESS** - a reserved word, defined in **stdlib.h**. To indicate failure, return **EXIT_FAILURE**.\n",
    "\n",
    "Every standard C program has exactly one function named *main*, which is the program's entry point. Passing *void* means that the function has no *parameters*; that is, the function takes no other information to run.\n",
    "\n",
    "**printf** - send *formatted* output to the standard output stream (the console)\n",
    "\n",
    "The returned value from *main* is the program's exit status; in this case, a macro from stdlib."
   ]
  },
  {
   "cell_type": "markdown",
   "metadata": {},
   "source": [
    "## Fahrenheit to Celsius"
   ]
  },
  {
   "cell_type": "code",
   "execution_count": 13,
   "metadata": {},
   "outputs": [
    {
     "name": "stdout",
     "output_type": "stream",
     "text": [
      "-100.0  -73.3 \n",
      "-80.0  -62.2 \n",
      "-60.0  -51.1 \n",
      "-40.0  -40.0 \n",
      "-20.0  -28.9 \n",
      " 0.0  -17.8 \n",
      "20.0   -6.7 \n",
      "40.0    4.4 \n",
      "60.0   15.6 \n",
      "80.0   26.7 \n",
      "100.0   37.8 \n",
      "120.0   48.9 \n",
      "140.0   60.0 \n",
      "160.0   71.1 \n",
      "180.0   82.2 \n",
      "200.0   93.3 \n",
      "220.0  104.4 \n"
     ]
    }
   ],
   "source": [
    "#include <stdio.h>\n",
    "#include <stdlib.h>\n",
    "\n",
    "int main(void){\n",
    "    int lower, upper, step;\n",
    "    float fahr, cels;\n",
    "    \n",
    "    /* Set up the iteration limits and step size */\n",
    "    lower = -100;\n",
    "    upper = 220;\n",
    "    step = 20;\n",
    "    fahr = lower;\n",
    "    \n",
    "    while (fahr <= upper){\n",
    "        cels = (fahr - 32) * 5. / 9.;\n",
    "        printf(\"%4.1f %6.1f \\n\", fahr, cels); // note float formatting\n",
    "        fahr = fahr + step;\n",
    "    }\n",
    "}"
   ]
  },
  {
   "cell_type": "markdown",
   "metadata": {},
   "source": [
    "#### Let's unpack *that* a bit\n",
    "\n",
    "**=** - the *assignment* operator. The expression on the right hand side is stored into the variable on the left hand side.\n",
    "**-** - subtraction\n",
    "**/** - division\n",
    "\n",
    "Parentheses operate algebraically; code inside the parentheses executes first.\n",
    "\n",
    "We are not concerned about numerical precision here as we will only print values to one decimal place.\n",
    "\n",
    "By some reports, 70% of program development cost can be spent on maintenance, so it's important to keep our codebase readable. It is not required by the compiler to indent code that is within the braces, but it is good style. All statements do requrire a semicolon to terminate.\n",
    "\n",
    "#### % notation in formatting numbers\n",
    "\n",
    "\n",
    "#### Datatypes\n",
    "##### float\n",
    "A floating point type. Single-precision.\n",
    "##### int\n",
    "Integer type; no decimal places.\n",
    "\n",
    "Dividing or dividing an int and float will always generate a *float*, rather than truncating."
   ]
  },
  {
   "cell_type": "markdown",
   "metadata": {},
   "source": [
    "### An experiment in truncation"
   ]
  },
  {
   "cell_type": "code",
   "execution_count": 9,
   "metadata": {},
   "outputs": [
    {
     "name": "stdout",
     "output_type": "stream",
     "text": [
      "9"
     ]
    }
   ],
   "source": [
    "#include <stdio.h>\n",
    "\n",
    "int main(void){\n",
    "    float rootbeer = 9.9;\n",
    "    \n",
    "    int eger = rootbeer;\n",
    "    printf(\"%i\", eger);\n",
    "}"
   ]
  },
  {
   "cell_type": "code",
   "execution_count": 12,
   "metadata": {},
   "outputs": [
    {
     "name": "stdout",
     "output_type": "stream",
     "text": [
      "25.0\n",
      "25.0\n",
      "25.0\n",
      "25.0\n",
      " 0.0\n"
     ]
    }
   ],
   "source": [
    "# include <stdio.h>\n",
    "\n",
    "int main(void){\n",
    "    float one, two, three, four, five;\n",
    "    int fahr = 77;\n",
    "    \n",
    "    // these are all correct\n",
    "    one = 5.0 / 9.0 * (fahr - 32);\n",
    "    two = 5 / 9.0 * (fahr - 32);\n",
    "    three = 5.0 / 9 * (fahr - 32);\n",
    "    four = (fahr - 32) * 5 / 9;\n",
    "    \n",
    "    //this is the only one that is wrong\n",
    "    five = 5 / 9 * (fahr - 32);\n",
    "    \n",
    "    printf(\"%4.1f\\n\", one);\n",
    "    printf(\"%4.1f\\n\", two);\n",
    "    printf(\"%4.1f\\n\", three);\n",
    "    printf(\"%4.1f\\n\", four);\n",
    "    printf(\"%4.1f\\n\", five);\n",
    "}"
   ]
  },
  {
   "cell_type": "code",
   "execution_count": null,
   "metadata": {},
   "outputs": [],
   "source": []
  }
 ],
 "metadata": {
  "kernelspec": {
   "display_name": "C",
   "language": "c",
   "name": "c"
  },
  "language_info": {
   "file_extension": ".c",
   "mimetype": "text/plain",
   "name": "c"
  }
 },
 "nbformat": 4,
 "nbformat_minor": 2
}
