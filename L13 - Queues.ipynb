{
 "cells": [
  {
   "cell_type": "markdown",
   "metadata": {},
   "source": [
    "# Queues with Linked Lists\n",
    "\n",
    "## What is a queue?\n",
    "\n",
    "A queue is a collection in which the elements are maintained in the same order in which they were added. A linear collection is the simplest kind and can be implemented as a singly-linked-list.\n",
    "\n",
    "Generally, we make a queue as a **f**irst-**in**-**f**irst-**o**ut, or **FIFO**.\n",
    "\n",
    "Our queue will have two important operations, which we expect to execute many times:\n",
    "\n",
    "### `enqueue()`\n",
    "* add a new element to the *back* of the queue\n",
    "\n",
    "### `dequeue()`\n",
    "* remove an element from the *front* of the queue\n",
    "* return the value of the element\n",
    "\n",
    "## Design\n",
    "\n",
    "We have some design options for implementing the queue structure. Consider:\n",
    "\n",
    "* functional requirements\n",
    "\n",
    "    * actually doing the job\n",
    "    \n",
    "* non-functional requirements\n",
    "\n",
    "    * execution speed\n",
    "    \n",
    "    * memory footprint\n",
    "    \n",
    "    * scalability"
   ]
  },
  {
   "cell_type": "markdown",
   "metadata": {},
   "source": [
    "## Queue by singly-linked list - first go\n",
    "\n",
    "The first node in the list represents the front of the queue. The last node in the list represents the back of the queue.\n",
    "\n",
    "* `dequeue()` will remove and return the first node in the queue, in $O(1)$  \n",
    "\n",
    "* `enqueue()` will add the new node to the back of the list in $O(n)$  \n",
    "\n",
    "    * this is very inefficient to add a new element, as we must traverse the entire queue to get to the end."
   ]
  },
  {
   "cell_type": "markdown",
   "metadata": {},
   "source": [
    "## Queue by singly-linked list - second go\n",
    "\n",
    "What if we change it so the first node in the list is the *back* of the queue?\n",
    "\n",
    "* `enqueue()` will add the new node to the back of the list in $O(1)$  \n",
    "\n",
    "* `dequeue()` will remove and return the first node in the queue, in $O(n)$  \n",
    "\n",
    "All we've done is moved our inefficiency from `dequeue()` to `enqueue()`. Nuts."
   ]
  },
  {
   "cell_type": "markdown",
   "metadata": {},
   "source": [
    "## Queue by singly-linked list - third go\n",
    "\n",
    "What if we add another pointer, `rear`, to point to the first node of the queue? (The first node in the list is the *back* of the queue, still.)\n",
    "\n",
    "* `enqueue()` is $O(1)$ and following `front` is $O(1)$\n",
    "* `dequeue()` is *still* $O(n)$! Why?\n",
    "    * when we add to the queue, we are just going to make pointers to pointers to `front`\n",
    "    * the `rear` pointer must follow all the `.next` pointers!\n",
    "\n",
    "... and we've just accomplished the same efficiency all over again. Rats."
   ]
  },
  {
   "cell_type": "markdown",
   "metadata": {},
   "source": [
    "## Queue by singly-linked list - fourth go\n",
    "\n",
    "Change it back so that the node referred to by the `head` pointer is the front of the queue (the node acted upon by `dequeue()`.\n",
    "\n",
    "*  `front` and `dequeue` are $O(1)$\n",
    "   \n",
    "    * don't need to traverse anything to get from `head` to the first entry\n",
    "    \n",
    "* `enqueue()` is also $O(1)$\n",
    "\n",
    "    * `rear` points directly to the last node in the list\n",
    "    \n",
    "    * we can change `rear->next` to point to our new node\n",
    "    \n",
    "    * then move `rear` to the *new* last node once it is created\n",
    "    \n",
    "        * this is make before break\n",
    "        \n",
    "* it's probably a good idea to define a struct like `queue_t` to store the pointers to the front and the back of the list.\n",
    "    \n",
    "**Finally**, we can efficiently add and remove elements from the list!"
   ]
  },
  {
   "cell_type": "markdown",
   "metadata": {},
   "source": [
    "## Circular Singly-Linked List\n",
    "\n",
    "* Instead of assinging the pointer in the last node to `NULL`, make it point back to the front!\n",
    "\n",
    "    * eliminates one pointer - only need `rear` to get into the list\n",
    "    \n",
    "    * when adding a node\n",
    "    \n",
    "        * break the old last-to-front pointer and move it to the new node\n",
    "        \n",
    "            * `rear->next` should point to the output of `malloc()`\n",
    "\n",
    "        * point `rear` to the new node output by `malloc()`\n",
    "        \n",
    "### Can we change to use only `front` and not `rear`?\n",
    "\n",
    "* Problematic:\n",
    "    \n",
    "    * Need some way to find the end of the list without the `rear` pointer\n",
    "    \n",
    "    * Changes `enqueue()` to $O(n)$ complexity"
   ]
  },
  {
   "cell_type": "markdown",
   "metadata": {},
   "source": [
    "## A primer on Big-O Complexity Notation\n",
    "\n",
    "https://rob-bell.net/2009/06/a-beginners-guide-to-big-o-notation/"
   ]
  }
 ],
 "metadata": {
  "kernelspec": {
   "display_name": "C",
   "language": "c",
   "name": "c"
  },
  "language_info": {
   "file_extension": ".c",
   "mimetype": "text/plain",
   "name": "c"
  }
 },
 "nbformat": 4,
 "nbformat_minor": 2
}
