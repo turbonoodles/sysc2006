{
 "cells": [
  {
   "cell_type": "markdown",
   "metadata": {},
   "source": [
    "# Queues with Linked Lists\n",
    "\n",
    "## What is a queue?\n",
    "\n",
    "A queue is a collection in which the elements are maintained in the same order in which they were added. A linear collection is the simplest kind and can be implemented as a singly-linked-list.\n",
    "\n",
    "Generally, we make a queue as a **f**irst-**in**-**f**irst-**o**ut, or **FIFO**.\n",
    "\n",
    "### Enqueue\n",
    "* add a new element to the *back* of the queue\n",
    "\n",
    "### Dequeue\n",
    "* remove an element from the *front* of the queue\n",
    "* return the value of the element\n",
    "\n",
    "We have some design options for implementing the queue structure. Consider:\n",
    "* functional requirements\n",
    "    * actually doing the job\n",
    "* non-functional requirements\n",
    "    * execution speed\n",
    "    * memory footprint\n",
    "    * scalability"
   ]
  },
  {
   "cell_type": "markdown",
   "metadata": {},
   "source": [
    "## Queue by singly-linked list - first go\n",
    "\n",
    "The first node in the list represents the front of the queue. The last node in the list represents the back of the queue.\n",
    "\n",
    "`dequeue()` will remove and return the first node in the queue, in $O(1)$  \n",
    "`enqueue()` will add the new node to the back of the list in $O(n)$  \n",
    "* this is very inefficient to add a new element, as we must traverse the entire queue to get to the end."
   ]
  },
  {
   "cell_type": "markdown",
   "metadata": {},
   "source": [
    "## Queue by singly-linked list - second go\n",
    "\n",
    "What if we change it so the first node in the list is the *back* of the queue?\n",
    "\n",
    "`enqueue()` will add the new node to the back of the list in $O(1)$  \n",
    "`dequeue()` will remove and return the first node in the queue, in $O(n)$  \n",
    "\n",
    "All we've done is moved our inefficiency from `dequeue()` to `enqueue()`. Nuts."
   ]
  },
  {
   "cell_type": "markdown",
   "metadata": {},
   "source": [
    "## Queue by singly-linked list - third go\n",
    "\n",
    "What if we add another pointer, `rear`, to point to the back of the line?\n",
    "\n",
    "`enqueue()`"
   ]
  },
  {
   "cell_type": "code",
   "execution_count": null,
   "metadata": {},
   "outputs": [],
   "source": []
  }
 ],
 "metadata": {
  "kernelspec": {
   "display_name": "C",
   "language": "c",
   "name": "c"
  },
  "language_info": {
   "file_extension": ".c",
   "mimetype": "text/plain",
   "name": "c"
  }
 },
 "nbformat": 4,
 "nbformat_minor": 2
}
