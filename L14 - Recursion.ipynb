{
 "cells": [
  {
   "cell_type": "markdown",
   "metadata": {},
   "source": [
    "## Recursion\n",
    "\n",
    "#### Administrivia\n",
    "- wed Dec 4: class cancelled\n",
    "- Fri Dec 6: no lecture; Monday schedule\n",
    "- Final exam: comprehensive; weighted toward 2nd half of course"
   ]
  },
  {
   "cell_type": "markdown",
   "metadata": {},
   "source": [
    "## Basics of recursion\n",
    "\n",
    "In order to write a recursive function, we need two different cases:\n",
    "\n",
    "* the *base case*: a degenerate case where the answer is obvious\n",
    "* the *recursive case*: a case where we can shrink the problem, towards the base case\n",
    "\n",
    "If we do not reduce the problem size on each recursion or we cannot reach the base case, we will get *infinite recursion*, just like a `while()` loop that never reaches its end."
   ]
  },
  {
   "cell_type": "markdown",
   "metadata": {},
   "source": [
    "## Calculating Factorial\n",
    "\n",
    "How do we calculate $6!$? We repeatedly calculate partial products: \n",
    "\n",
    "$$ 6! = 1 \\times 2 \\times 3 \\times 4 \\times 5 \\times 6 = 720 $$"
   ]
  },
  {
   "cell_type": "code",
   "execution_count": 3,
   "metadata": {},
   "outputs": [
    {
     "name": "stdout",
     "output_type": "stream",
     "text": [
      "factorial: 720\n"
     ]
    }
   ],
   "source": [
    "// calculate n! iteratively\n",
    "#include <stdio.h>\n",
    "#include <stdlib.h>\n",
    "\n",
    "int factorial (int n)\n",
    "{\n",
    "    int result = 1;\n",
    "    \n",
    "    for (int i = 1; i <= n; i++)\n",
    "    {\n",
    "        result = result * i;\n",
    "    }\n",
    "    \n",
    "    return result;\n",
    "}\n",
    "\n",
    "int main()\n",
    "{\n",
    "    int n = 6;\n",
    "    printf(\"factorial: %d\\n\", factorial(n));\n",
    "    return 0;\n",
    "}"
   ]
  },
  {
   "cell_type": "code",
   "execution_count": 36,
   "metadata": {
    "scrolled": true
   },
   "outputs": [
    {
     "name": "stdout",
     "output_type": "stream",
     "text": [
      "Calling factorial(6)\n",
      "Calling factorial(5)\n",
      "Calling factorial(4)\n",
      "Calling factorial(3)\n",
      "Calling factorial(2)\n",
      "Calling factorial(1); returning 1\n",
      "factorial: 720\n"
     ]
    }
   ],
   "source": [
    "// calculate n! recursively\n",
    "#include <stdio.h>\n",
    "#include <stdlib.h>\n",
    "\n",
    "long long int factorial(long long n)\n",
    "{\n",
    "    if (n == 1)\n",
    "    {\n",
    "        // the base case of factorial\n",
    "        printf(\"Calling factorial(1); returning 1\\n\"); \n",
    "        return 1;\n",
    "    }\n",
    "    else\n",
    "    {\n",
    "        // not the base case; call factorial again on a smaller problem\n",
    "        printf(\"Calling factorial(%lld)\\n\", n);\n",
    "        return n * factorial(n-1);\n",
    "    }\n",
    "}\n",
    "\n",
    "int main()\n",
    "{\n",
    "    long long n = 6;\n",
    "    printf(\"factorial: %lld\\n\", factorial(n));\n",
    "    return 0;\n",
    "}"
   ]
  },
  {
   "cell_type": "markdown",
   "metadata": {},
   "source": [
    "## Calculating the sum of an array\n",
    "\n",
    "We can calculate the sum of integers in an array recursively:\n",
    "\n",
    "* base case: the sum of an array of one element is the value of that element\n",
    "\n",
    "    * `sum(a[0] ... a[0]) = a[0]`\n",
    "    \n",
    "* recursive case: the sum of an array is the sum of `a[0]` and the sum of the rest of the array\n",
    "\n",
    "    * `sum(a[0] ... a[n-1]) = sum(a[0] ... a[n-2] + a[n-1]`"
   ]
  },
  {
   "cell_type": "code",
   "execution_count": 41,
   "metadata": {},
   "outputs": [
    {
     "name": "stdout",
     "output_type": "stream",
     "text": [
      "array sum: 15"
     ]
    }
   ],
   "source": [
    "// calculate an array sum recursively\n",
    "#include <stdio.h>\n",
    "#include <stdlib.h>\n",
    "\n",
    "int sum(int arr[], int n)\n",
    "{\n",
    "    if (n == 1) // base case; array length is 1\n",
    "    {\n",
    "        return arr[0];\n",
    "    }\n",
    "    // recursive case; add last element to the sum of the rest of the array\n",
    "    return arr[n-1] + sum(arr, n-1);\n",
    "}\n",
    "\n",
    "int main()\n",
    "{\n",
    "    int a[] = {1, 2, 3, 4, 5};\n",
    "    \n",
    "    printf(\"array sum: %d\", sum(a, 5));\n",
    "}"
   ]
  },
  {
   "cell_type": "markdown",
   "metadata": {},
   "source": [
    "## Traversing a linked list recursively\n",
    "\n",
    "Recall that we can traverse a linked list with the following for loop:"
   ]
  },
  {
   "cell_type": "code",
   "execution_count": null,
   "metadata": {},
   "outputs": [],
   "source": [
    "// includes and struct declaration here\n",
    "\n",
    "node_t* curr;\n",
    "\n",
    "while ( curr != NULL )\n",
    "{\n",
    "    curr = curr->next;\n",
    "    do_something();\n",
    "}\n",
    "\n",
    "// equivalent\n",
    "for ( node_t* curr = head; curr != NULL; curr = curr->next)\n",
    "{\n",
    "    do_something();\n",
    "}"
   ]
  },
  {
   "cell_type": "markdown",
   "metadata": {},
   "source": [
    "Let's traverse the list with a recursive function instead:"
   ]
  },
  {
   "cell_type": "code",
   "execution_count": 50,
   "metadata": {},
   "outputs": [
    {
     "name": "stdout",
     "output_type": "stream",
     "text": [
      "1\n",
      "2\n",
      "3\n"
     ]
    }
   ],
   "source": [
    "#include <stdio.h>\n",
    "#include <stdlib.h>\n",
    "#include <assert.h>\n",
    "\n",
    "// node structure\n",
    "struct node {\n",
    "    int value;            // list payload\n",
    "    struct node* next;    // pointer to the next node\n",
    "};\n",
    "typedef struct node node_t;\n",
    "\n",
    "// node constructor function\n",
    "node_t* node_construct( int value, node_t* next )\n",
    "{\n",
    "    node_t* p = malloc(sizeof(node_t));  // A: alocate memory\n",
    "    assert ( p != NULL );\n",
    "    p->value = value;                    // B: build structure (initialize values)\n",
    "    p->next = next;                      // C: connect to next node\n",
    "    return p;\n",
    "}\n",
    "\n",
    "void traverse( node_t* curr )\n",
    "{\n",
    "    if (curr == NULL)\n",
    "    {\n",
    "        return; // base case; go nowhere and do nothing\n",
    "    }\n",
    "    // recursive case\n",
    "    printf(\"%d\\n\", curr->value);\n",
    "    return traverse(curr->next);\n",
    "}\n",
    "\n",
    "int main()\n",
    "{\n",
    "    node_t* first;\n",
    "    node_t* second;\n",
    "    node_t* third;\n",
    "    \n",
    "    // initialize nodes\n",
    "    third = node_construct(3, NULL);\n",
    "    second = node_construct(2, third);\n",
    "    first = node_construct(1, second);\n",
    "    \n",
    "    // get a pointer to the front of the list\n",
    "    node_t* current = first;\n",
    "    \n",
    "    traverse(current);\n",
    "    \n",
    "    return EXIT_SUCCESS;\n",
    "}"
   ]
  },
  {
   "cell_type": "code",
   "execution_count": 4,
   "metadata": {},
   "outputs": [
    {
     "name": "stdout",
     "output_type": "stream",
     "text": [
      "1\n",
      "2\n",
      "3\n"
     ]
    }
   ],
   "source": [
    "// an even shorter traverse() function\n",
    "#include <stdio.h>\n",
    "#include <stdlib.h>\n",
    "#include <assert.h>\n",
    "\n",
    "// node structure\n",
    "struct node {\n",
    "    int value;            // list payload\n",
    "    struct node* next;    // pointer to the next node\n",
    "};\n",
    "typedef struct node node_t;\n",
    "\n",
    "// node constructor function\n",
    "node_t* node_construct( int value, node_t* next )\n",
    "{\n",
    "    node_t* p = malloc(sizeof(node_t));  // A: alocate memory\n",
    "    assert ( p != NULL );\n",
    "    p->value = value;                    // B: build structure (initialize values)\n",
    "    p->next = next;                      // C: connect to next node\n",
    "    return p;\n",
    "}\n",
    "\n",
    "void traverse( node_t* curr )\n",
    "{\n",
    "    // even shorter\n",
    "    if (curr != NULL)\n",
    "    {\n",
    "        printf(\"%d\\n\", curr->value);\n",
    "        traverse(curr->next);\n",
    "    }\n",
    "}\n",
    "\n",
    "int main()\n",
    "{\n",
    "    node_t* first;\n",
    "    node_t* second;\n",
    "    node_t* third;\n",
    "    \n",
    "    // initialize nodes\n",
    "    third = node_construct(3, NULL);\n",
    "    second = node_construct(2, third);\n",
    "    first = node_construct(1, second);\n",
    "    \n",
    "    // get a pointer to the front of the list\n",
    "    node_t* current = first;\n",
    "    \n",
    "    traverse(current);\n",
    "    \n",
    "    return EXIT_SUCCESS;\n",
    "}"
   ]
  },
  {
   "cell_type": "markdown",
   "metadata": {},
   "source": [
    "## Towers of Hanoi\n",
    "\n",
    "From TutorialsPoint:\n",
    "```\n",
    "|           |          |\n",
    "|           |          |\n",
    "|           |          |\n",
    "|          {=}         |   // smallest disk\n",
    "|         {===}        |\n",
    "|        {=====}       |   // largest disk\n",
    "```\n",
    "\n",
    "> The mission is to move all the disks to some another tower without violating the sequence of arrangement. A few rules to be followed for Tower of Hanoi are:\n",
    "\n",
    ">- Only one disk can be moved among the towers at any given time.\n",
    "\n",
    ">- Only the \"top\" disk can be removed.\n",
    "\n",
    ">- No large disk can sit over a small disk.\n",
    "\n",
    "We can implement the Towers of Hanoi algorithm using *two* recursive cases:\n",
    "\n",
    "* if there is exactly one disk, move it from the source to the destination\n",
    "\n",
    "* if there are two disks:\n",
    "\n",
    "    * move the top disk to source to temp\n",
    "    \n",
    "    * move the next disk from source to destination\n",
    "    \n",
    "    * move the first disk from temp to destination"
   ]
  },
  {
   "cell_type": "code",
   "execution_count": 24,
   "metadata": {},
   "outputs": [
    {
     "name": "stdout",
     "output_type": "stream",
     "text": [
      "Move disk 1 from tower A to tower C.\n",
      "Move disk 2 from tower A to tower B.\n",
      "Move disk 1 from tower C to tower B.\n",
      "Move disk 3 from tower A to tower C.\n",
      "Move disk 1 from tower B to tower A.\n",
      "Move disk 2 from tower B to tower C.\n",
      "Move disk 1 from tower A to tower C.\n",
      "Move disk 4 from tower A to tower B.\n",
      "Move disk 1 from tower C to tower B.\n",
      "Move disk 2 from tower C to tower A.\n",
      "Move disk 1 from tower B to tower A.\n",
      "Move disk 3 from tower C to tower B.\n",
      "Move disk 1 from tower A to tower C.\n",
      "Move disk 2 from tower A to tower B.\n",
      "Move disk 1 from tower C to tower B.\n",
      "Done in 15 moves.\n"
     ]
    }
   ],
   "source": [
    "#include <stdio.h>\n",
    "#include <stdlib.h>\n",
    "\n",
    "// disk: target disk\n",
    "// source: tower where target disk is\n",
    "// dest: tower to move the target disk to \n",
    "// temp: the spare tower\n",
    "\n",
    "void Hanoi(int disk, char source, char dest, char temp, int* count)\n",
    "{\n",
    "    if (disk == 1)\n",
    "    {\n",
    "        // move disk\n",
    "        printf(\"Move disk 1 from tower %c to tower %c.\\n\", source, dest);\n",
    "        *count = *count + 1;\n",
    "        return;\n",
    "    }\n",
    "    \n",
    "    /*\n",
    "    neither of the above can be true to get here\n",
    "    \n",
    "    need to move at least two disks:\n",
    "    - move smallest disk to the spare\n",
    "    - move target disk to the destination\n",
    "    - move smallest disk to the destination\n",
    "    */\n",
    "    Hanoi( disk - 1, source, temp, dest , count);\n",
    "    printf(\"Move disk %d from tower %c to tower %c.\\n\", disk, source, dest);   // note: disk, not disk-1\n",
    "    Hanoi( disk - 1, temp, dest, source, count);\n",
    "    *count = *count + 1;\n",
    "}\n",
    "\n",
    "int main()\n",
    "{\n",
    "    // count number of moves on heap\n",
    "    int* moves = malloc(sizeof(int));\n",
    "    *moves = 0;\n",
    "    \n",
    "    Hanoi( 4, 'A', 'B', 'C', moves);\n",
    "    \n",
    "    printf(\"Done in %d moves.\\n\", *moves);\n",
    "    \n",
    "    return EXIT_SUCCESS;\n",
    "}"
   ]
  },
  {
   "cell_type": "markdown",
   "metadata": {},
   "source": [
    "## Fibonacci Sequence"
   ]
  },
  {
   "cell_type": "code",
   "execution_count": 13,
   "metadata": {},
   "outputs": [
    {
     "name": "stdout",
     "output_type": "stream",
     "text": [
      "13\n"
     ]
    }
   ],
   "source": [
    "#include <stdio.h>\n",
    "#include <stdlib.h>\n",
    "\n",
    "int fib(int n)\n",
    "{\n",
    "    // two base cases for the special values 0,1,1...   \n",
    "    if (n == 0)\n",
    "    {\n",
    "        return 0;\n",
    "    }\n",
    "    if (n == 1)\n",
    "    {\n",
    "        return 1;\n",
    "    }\n",
    "    \n",
    "    // recursive case\n",
    "    return ( fib(n-1) + fib(n-2) ); // this is the condition for a fibonacci number\n",
    "}\n",
    "\n",
    "int main()\n",
    "{\n",
    "    int result;\n",
    "    \n",
    "    result = fib(7);\n",
    "    \n",
    "    printf(\"%d\\n\", result);\n",
    "    \n",
    "    return EXIT_SUCCESS;\n",
    "    \n",
    "}"
   ]
  },
  {
   "cell_type": "markdown",
   "metadata": {},
   "source": [
    "## Program Arguments and `scanf()`\n",
    "\n",
    "We can pass arguments into `main.c`; it will look like `int main( int argc, char *argv[] )`\n",
    "\n",
    "* `argc` is the count of the program's arguments\n",
    "\n",
    "* `argv` is an array of pointers to *character strings* representing the arguments themselves\n",
    "\n",
    "Say we run `>> myprog left right centre` at the command line:\n",
    "\n",
    "* `argc`: 4\n",
    "\n",
    "* `argv`: {\"myprog\", \"left\", \"right\", \"centre\"}\n",
    "\n",
    "Note that `argv[0]` will *always* be the name of the program (and is probably not super useful).\n",
    "\n",
    "`argv` is an array of pointers to character arrays, so it is a 2d array of sorts:\n",
    "\n",
    "* `argv[0]` in the above is \"myprog\"\n",
    "\n",
    "* `argv[0][0]` is \"m\"\n",
    "\n",
    "### `scanf()`\n",
    "\n",
    "* reads keyboard input\n",
    "\n",
    "* accepts the same type specifiers as `printf()`\n",
    "\n",
    "* not on the final exam :)\n",
    "\n",
    "* annoyingly tricky; probably shouldn't be used in real systems"
   ]
  },
  {
   "cell_type": "code",
   "execution_count": 39,
   "metadata": {},
   "outputs": [
    {
     "name": "stdout",
     "output_type": "stream",
     "text": [
      "Enter the value of a:\n",
      "Enter the value of b:\n",
      "Enter the value of c:\n",
      "a, b, c: -1869427792, -1599204144, 32766\n"
     ]
    }
   ],
   "source": [
    "// scanf doesn't work right in jupyter c kernel\n",
    "\n",
    "#include <stdio.h>\n",
    "\n",
    "int main()\n",
    "{\n",
    "    int a, b, c;\n",
    "    \n",
    "    printf(\"Enter the value of a:\\n\");\n",
    "    scanf(\"%d\", &a); // toss an int into a, pointerly\n",
    "    \n",
    "    printf(\"Enter the value of b:\\n\");\n",
    "    scanf(\"%d\", &b); \n",
    "    \n",
    "    printf(\"Enter the value of c:\\n\");\n",
    "    scanf(\"%d\", &c);\n",
    "    \n",
    "    printf(\"a, b, c: %d, %d, %d\\n\", a, b, c);\n",
    "}"
   ]
  },
  {
   "cell_type": "code",
   "execution_count": 40,
   "metadata": {},
   "outputs": [],
   "source": [
    "#include <stdio.h>\n",
    "\n",
    "int main()\n",
    "{\n",
    "    int a, b, c;\n",
    "    \n",
    "    printf(\"Enter the value of a:\\n\");\n",
    "    scanf(\"%d %d %d\", &a, &b, &c); // get 3 whitespace separated integers\n",
    "    \n",
    "    printf(\"Enter the value of a:\\n\");\n",
    "    scanf(\"%d,%d,%d\", &a, &b, &c); // get 3 comma separated integers, with no whitespace\n",
    "    \n",
    "    printf(\"Enter the value of a:\\n\");\n",
    "    scanf(\"test:%d,%d,%d\", &a, &b, &c); // get 3 comma separated integers after the word \"test:\"\n",
    "    \n",
    "    \n",
    "    printf(\"a, b, c: %d, %d, %d\\n\", a, b, c);\n",
    "}"
   ]
  },
  {
   "cell_type": "markdown",
   "metadata": {},
   "source": [
    "Note that in the last case, `scanf` won't read in the integers if they are not preceded by the word `test:`!"
   ]
  }
 ],
 "metadata": {
  "kernelspec": {
   "display_name": "C",
   "language": "c",
   "name": "c"
  },
  "language_info": {
   "file_extension": ".c",
   "mimetype": "text/plain",
   "name": "c"
  }
 },
 "nbformat": 4,
 "nbformat_minor": 2
}
