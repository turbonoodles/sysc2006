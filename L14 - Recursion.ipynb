{
 "cells": [
  {
   "cell_type": "markdown",
   "metadata": {},
   "source": [
    "## Recursion\n",
    "\n",
    "#### Administrivia\n",
    "- wed Dec 4: class cancelled\n",
    "- Fri Dec 6: no lecture; Monday schedule\n",
    "- Final exam: comprehensive; weighted toward 2nd half of course"
   ]
  },
  {
   "cell_type": "markdown",
   "metadata": {},
   "source": [
    "## Calculating Factorial\n",
    "\n",
    "How do we calculate $6!$? We repeatedly calculate partial products: \n",
    "\n",
    "$$ 6! = 1 \\times 2 \\times 3 \\times 4 \\times 5 \\times 6 = 720 $$"
   ]
  },
  {
   "cell_type": "code",
   "execution_count": 3,
   "metadata": {},
   "outputs": [
    {
     "name": "stdout",
     "output_type": "stream",
     "text": [
      "factorial: 720\n"
     ]
    }
   ],
   "source": [
    "// calculate n! iteratively\n",
    "#include <stdio.h>\n",
    "#include <stdlib.h>\n",
    "\n",
    "int factorial (int n)\n",
    "{\n",
    "    int result = 1;\n",
    "    \n",
    "    for (int i = 1; i <= n; i++)\n",
    "    {\n",
    "        result = result * i;\n",
    "    }\n",
    "    \n",
    "    return result;\n",
    "}\n",
    "\n",
    "int main()\n",
    "{\n",
    "    int n = 6;\n",
    "    printf(\"factorial: %d\\n\", factorial(n));\n",
    "    return 0;\n",
    "}"
   ]
  },
  {
   "cell_type": "code",
   "execution_count": 7,
   "metadata": {
    "scrolled": true
   },
   "outputs": [
    {
     "name": "stdout",
     "output_type": "stream",
     "text": [
      "Calling factorial(6)\n",
      "Calling factorial(5)\n",
      "Calling factorial(4)\n",
      "Calling factorial(3)\n",
      "Calling factorial(2)\n",
      "Calling factorial(1); returning 1\n",
      "factorial: 720\n"
     ]
    }
   ],
   "source": [
    "// calculate n! recursively\n",
    "#include <stdio.h>\n",
    "#include <stdlib.h>\n",
    "\n",
    "int factorial(int n)\n",
    "{\n",
    "    if (n == 1)\n",
    "    {\n",
    "        // the base case of factorial\n",
    "        printf(\"Calling factorial(1); returning 1\\n\"); \n",
    "        return 1;\n",
    "    }\n",
    "    else\n",
    "    {\n",
    "        // not the base case; call factorial again on a smaller problem\n",
    "        printf(\"Calling factorial(%d)\\n\", n);\n",
    "        return n * factorial(n-1);\n",
    "    }\n",
    "}\n",
    "\n",
    "int main()\n",
    "{\n",
    "    int n = 6;\n",
    "    printf(\"factorial: %d\\n\", factorial(n));\n",
    "    return 0;\n",
    "}"
   ]
  },
  {
   "cell_type": "markdown",
   "metadata": {},
   "source": [
    "## Calculating the sum of an array\n",
    "\n",
    "We can calculate the sum of integers in an array recursively:\n",
    "\n",
    "* base case: the sum of an array of one element is the value of that element\n",
    "\n",
    "    * `sum(a[0] ... a[0]) = a[0]`\n",
    "    \n",
    "* recursive case: the sum of an array is the sum of `a[0]` and the sum of the rest of the array\n",
    "\n",
    "    * `sum(a[0] ... a[n-1]) = sum(a[0] ... a[n-2] + a[n-1]`"
   ]
  },
  {
   "cell_type": "code",
   "execution_count": 9,
   "metadata": {},
   "outputs": [
    {
     "name": "stdout",
     "output_type": "stream",
     "text": [
      "array sum: 15"
     ]
    }
   ],
   "source": [
    "// calculate an array sum recursively\n",
    "#include <stdio.h>\n",
    "#include <stdlib.h>\n",
    "\n",
    "int sum(int arr[], int n)\n",
    "{\n",
    "    if (n == 1) // base case; array length is 1\n",
    "    {\n",
    "        return arr[0];\n",
    "    }\n",
    "    // recursive case; add last element to the sum of the rest of the array\n",
    "    return arr[n-1] + sum(arr, n-1);\n",
    "}\n",
    "\n",
    "int main()\n",
    "{\n",
    "    int a[] = {1, 2, 3, 4, 5};\n",
    "    \n",
    "    printf(\"array sum: %d\", sum(a, 5));\n",
    "}"
   ]
  },
  {
   "cell_type": "markdown",
   "metadata": {},
   "source": [
    "## Program Arguments and `scanf()`\n",
    "\n",
    "We can pass arguments into `main.c`; it will look like `int main( int argc, char *argv[] )`\n",
    "\n",
    "* `argc` is the count of the program's arguments\n",
    "\n",
    "* `argv` is an array of *character strings* representing the arguments themselves\n",
    "\n",
    "Say we run `>> myprog left right centre` at the command line:\n",
    "\n",
    "* `argc`: 4\n",
    "\n",
    "* `argv`: {\"myprog\", \"left\", \"right\", \"centre\"}\n",
    "\n",
    "Note that `argv[0]` will *always* be the name of the program (and is probably not super useful).\n",
    "\n",
    "### `scanf()`\n",
    "\n",
    "* reads keyboard input\n",
    "\n",
    "* accepts the same type specifiers as `printf()`"
   ]
  },
  {
   "cell_type": "code",
   "execution_count": 10,
   "metadata": {},
   "outputs": [],
   "source": [
    "#include <stdio.h>\n",
    "\n",
    "int main()\n",
    "{\n",
    "    int a, b, c;\n",
    "    \n",
    "    printf(\"Enter the value of a:\");\n",
    "    scanf(\"%d\", &a); // toss an int into a, pointerly\n",
    "    \n",
    "    printf(\"Enter the value of b:\");\n",
    "    scanf(\"%d\", &b); \n",
    "    \n",
    "    printf(\"Enter the value of c:\");\n",
    "    scanf(\"%d\", &c);\n",
    "    \n",
    "    printf(\"a, b, c: %d, %d, %d\", a, b, c);\n",
    "}"
   ]
  }
 ],
 "metadata": {
  "kernelspec": {
   "display_name": "C",
   "language": "c",
   "name": "c"
  },
  "language_info": {
   "file_extension": ".c",
   "mimetype": "text/plain",
   "name": "c"
  }
 },
 "nbformat": 4,
 "nbformat_minor": 2
}
