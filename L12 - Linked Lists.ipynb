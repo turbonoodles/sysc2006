{
 "cells": [
  {
   "cell_type": "markdown",
   "metadata": {},
   "source": [
    "## Linked Lists\n",
    "\n",
    "### Limits of Arrays\n",
    "\n",
    "The size of an array is determined at compile time - `arr[100]` will always give you an array of size 100. We can either allocate it too big (and waste memory) - or we can make it small (and risk going off the end). \n",
    "\n",
    "The solution is to use *dynamic memory allocation* (that is, the heap) for elements as needed.\n",
    "\n",
    "In a linked list, each *node* stores:\n",
    "- the value of the list at that node;\n",
    "- a pointer to the next value in the list.\n",
    "\n",
    "The *head* of the list stores a pointer to the first node. The *tail* stores a special link/pointer that indicates reaching the end of the list.\n",
    "\n",
    "##### Pros\n",
    "- allocate nodes only as needed (can grow)\n",
    "- can deallocate nodes when not needed (can shrink)\n",
    "- efficient memory use\n",
    "\n",
    "##### Cons\n",
    "- more complicated than arrays\n",
    "- no operator for indexing the list\n",
    "    - must follow the entire list through to find each value of the list\n",
    "    - time to access depends on its position in the list"
   ]
  },
  {
   "cell_type": "markdown",
   "metadata": {},
   "source": [
    "### Structure of a list\n",
    "\n",
    "```\n",
    "typedef struct node {\n",
    "    int data;             // list payload\n",
    "    struct node *next;    // pointer to the next node\n",
    "} node_t;\n",
    "```\n",
    "\n",
    "We cannot declare `next` as `node_t next` - because type `node_t` is done being defined yet!"
   ]
  },
  {
   "cell_type": "code",
   "execution_count": 8,
   "metadata": {},
   "outputs": [
    {
     "name": "stdout",
     "output_type": "stream",
     "text": [
      "1"
     ]
    },
    {
     "name": "stderr",
     "output_type": "stream",
     "text": [
      "[C kernel] Executable exited with code -11"
     ]
    }
   ],
   "source": [
    "#include <stdio.h>\n",
    "#include <stdlib.h>\n",
    "#include <assert.h>\n",
    "\n",
    "// node structure\n",
    "typedef struct node {\n",
    "    int value;            // list payload\n",
    "    struct node *next;    // pointer to the next node\n",
    "} node_t;\n",
    "\n",
    "// node constructor function\n",
    "node_t* node_construct( int value, node_t* next )\n",
    "{\n",
    "    node_t* p = malloc(sizeof(node_t));  // A: alocate memory\n",
    "    assert ( p != NULL );\n",
    "    p->value = value;                    // B: build structure (initialize values)\n",
    "    p->next = next;                      // C: connect to next node\n",
    "    return p;\n",
    "}\n",
    "\n",
    "int main()\n",
    "{\n",
    "    node_t* first;\n",
    "    node_t* second;\n",
    "    node_t* third;\n",
    "    \n",
    "    // initialize nodes\n",
    "    first = node_construct(1, second);\n",
    "    second = node_construct(2, third);\n",
    "    third = node_construct(3, NULL);\n",
    "    \n",
    "    // some outputs\n",
    "    printf(\"%d\", first->value);\n",
    "    printf(\"%d\", first->next->value);\n",
    "    \n",
    "    return EXIT_SUCCESS;\n",
    "}"
   ]
  },
  {
   "cell_type": "markdown",
   "metadata": {},
   "source": [
    "### Designing Linked List Operations\n",
    "\n",
    "When designing an operation on a linked list, ensure the algorithm works for:\n",
    "    - an empty list\n",
    "    - operations at (or ahead of) the first node\n",
    "    - operations at (or behind) the last node\n",
    "    - operations somewhere in the middle\n",
    "    \n",
    "#### Inserting a Node at the front of a list\n",
    "- list is either empty or not empty\n",
    "- `head` pointer will change\n",
    "    - from old first node to new node\n",
    "\n",
    "```\n",
    "node_t* push(node_t* head, int value)\n",
    "{\n",
    "    node_t* newnode = malloc(sizeof(node_t));\n",
    "    assert(newnode != NULL);\n",
    "    newnode -> data = some_value_to_be_stored;\n",
    "    \n",
    "    // set up the link\n",
    "    newnode->next = head;\n",
    "    \n",
    "    // update head pointer\n",
    "    head = newnode;\n",
    "    \n",
    "    return head;\n",
    "}"
   ]
  }
 ],
 "metadata": {
  "kernelspec": {
   "display_name": "C",
   "language": "c",
   "name": "c"
  },
  "language_info": {
   "file_extension": ".c",
   "mimetype": "text/plain",
   "name": "c"
  }
 },
 "nbformat": 4,
 "nbformat_minor": 2
}
