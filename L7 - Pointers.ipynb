{
 "cells": [
  {
   "cell_type": "markdown",
   "metadata": {},
   "source": [
    "## Pointers\n",
    "\n",
    "We can view a computer's memory as a collection of consecutively-numbered cells, each holding an 8-bit *byte*. A *char* (one ASCII standard character) can be stored in a single byte. A 32-bit integer is stored in 4 adjacent cells. When we make a variable in C, the variable's name is a symbolic name for this group of bytes in the computer's memory.\n",
    "\n",
    "Each cell is numbered with an *address*. A **pointer** is a variable that contains another variable's address.\n",
    "\n",
    "\"I don't know what the value you're looking for is, but I know where it is.\""
   ]
  },
  {
   "cell_type": "code",
   "execution_count": null,
   "metadata": {},
   "outputs": [],
   "source": [
    "int *p; // the address of p;\n",
    "int* p; // equivalent; the type of p is pointer to int"
   ]
  },
  {
   "cell_type": "markdown",
   "metadata": {},
   "source": [
    "Note that this has a type of \"pointer to int\"; it is *not* an integer assigned to \\*p. This type refers to the object pointed at, not to the pointer itself."
   ]
  },
  {
   "cell_type": "markdown",
   "metadata": {},
   "source": [
    "### Address-Of Operator and Dereference Operator\n",
    "\n",
    "**`&`**: the *reference* or *address-of* operator. Returns the address where the variable is stored.  \n",
    "**`*`**: the *dereference* or *content-of* operator. Returns the value of the variable at the address.\n",
    "\n",
    "These operators have higher precedence than arithmetic, comparison, and logical operators. A pointer will be dereferenced before addition, for example.\n",
    "\n",
    "Pointers can also point to other pointers."
   ]
  },
  {
   "cell_type": "code",
   "execution_count": 3,
   "metadata": {},
   "outputs": [
    {
     "name": "stdout",
     "output_type": "stream",
     "text": [
      "address: 0x7ffef3fcc06c\n",
      "x = 5; y = 2\n",
      "x = 15; y = 2\n",
      "x = 15; y = 2\n",
      "*p = 99; *q = 99\n",
      "*p = 88; *q = 88\n"
     ]
    }
   ],
   "source": [
    "#include <stdio.h>\n",
    "#include <stdlib.h>\n",
    "\n",
    "void main(){\n",
    "    \n",
    "    int* p;\n",
    "    int* q;\n",
    "    \n",
    "    int x = 1, y = 2, z = 8;\n",
    "    \n",
    "    p = &x; // assigns the address of x to p\n",
    "    q = &z;\n",
    "    \n",
    "    printf(\"address: %p\\n\", p); // some hexadecimal garbage\n",
    "    \n",
    "    *p = 5; // the variable pointed to by p is assigned 5\n",
    "            // x now has the value 5\n",
    "            \n",
    "    printf(\"x = %d; y = %d\\n\", x, y); // see?\n",
    "    \n",
    "    // now we can use *p anywhere we would have used x\n",
    "    *p = *p + 10;\n",
    "    \n",
    "    printf(\"x = %d; y = %d\\n\", x, y);\n",
    "    \n",
    "    // pointer to a pointer\n",
    "    q = p;\n",
    "    \n",
    "    printf(\"x = %d; y = %d\\n\", x, y);\n",
    "    \n",
    "    *q = 99;\n",
    "    \n",
    "    printf(\"*p = %d; *q = %d\\n\", *p, *q); // both pointers point to x\n",
    "    \n",
    "    *p = *q - 11;\n",
    "    \n",
    "    printf(\"*p = %d; *q = %d\\n\", *p, *q);\n",
    "  \n",
    "}"
   ]
  },
  {
   "cell_type": "code",
   "execution_count": 6,
   "metadata": {},
   "outputs": [
    {
     "name": "stdout",
     "output_type": "stream",
     "text": [
      "Initial ptr: (nil)\n",
      "\n",
      "Address of val (&val) = 0x7ffd3daf1a2c\n",
      "Address of val (ptr) = 0x7ffd3daf1a2c\n",
      "\n",
      "val = 33, *ptr = 33\n",
      "\n",
      "address of ptr (&ptr) = 0x7ffd3daf1a30\n"
     ]
    }
   ],
   "source": [
    "#include <stdio.h>\n",
    "#include <stdlib.h>\n",
    "\n",
    "int main(void)\n",
    "{\n",
    "    int val = 33;\n",
    "    int* ptr = NULL;\n",
    "    \n",
    "    printf(\"Initial ptr: %p\\n\\n\", (void *)ptr);\n",
    "    \n",
    "    ptr = &val;\n",
    "    \n",
    "    printf(\"Address of val (&val) = %p\\n\", (void *)&val);\n",
    "    printf(\"Address of val (ptr) = %p\\n\\n\", ptr);\n",
    "    \n",
    "    printf(\"val = %d, *ptr = %d\\n\\n\", val, *ptr);\n",
    "    printf(\"address of ptr (&ptr) = %p\\n\", (void *)&ptr);\n",
    "    \n",
    "    return EXIT_SUCCESS;\n",
    "}"
   ]
  },
  {
   "cell_type": "code",
   "execution_count": null,
   "metadata": {},
   "outputs": [],
   "source": []
  }
 ],
 "metadata": {
  "kernelspec": {
   "display_name": "C",
   "language": "c",
   "name": "c"
  },
  "language_info": {
   "file_extension": ".c",
   "mimetype": "text/plain",
   "name": "c"
  }
 },
 "nbformat": 4,
 "nbformat_minor": 2
}
