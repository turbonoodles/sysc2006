{
 "cells": [
  {
   "cell_type": "markdown",
   "metadata": {},
   "source": [
    "# Data Representation in C\n",
    "\n",
    "How do we interpret the number 742? The number is:\n",
    "* 7 hundreds\n",
    "* 4 tens\n",
    "* 2 ones\n",
    "\n",
    "Different bases are more natural in certain situations: base 10 is convenient for humans, but binary is more convenient in digital systems (*on* and *off*).\n",
    "\n",
    "Base 2 (binary) has 2 symbols) (0, 1). Decimal has 10 symbols (0-9) and hexadecimal has 16 symbols (0-9 + A-F)\n",
    "\n",
    "As a generic representation, multiply each digit by its weight, then sum the results. Mathematically if $ d_0 d_1 d_3 d_4 $ is in base $ n $:\n",
    "$ d_0 d_1 d_3 d_4 = d_3 \\times n^3 + d_2 \\times n^2 + d_1 \\times n^1 + d_0 \\times n^0 $"
   ]
  },
  {
   "cell_type": "markdown",
   "metadata": {},
   "source": [
    "In a computer, data are stored as binary digits in fixed-size cells, called *words*. An 8-bit word is often called a *byte*, and is an extremely common size for a memory cell. 4 bits, in a burst of cuteness, is called a *nybble* and represents a single hexadecimal digit."
   ]
  },
  {
   "cell_type": "code",
   "execution_count": null,
   "metadata": {},
   "outputs": [],
   "source": []
  }
 ],
 "metadata": {
  "kernelspec": {
   "display_name": "C",
   "language": "c",
   "name": "c"
  },
  "language_info": {
   "file_extension": ".c",
   "mimetype": "text/plain",
   "name": "c"
  }
 },
 "nbformat": 4,
 "nbformat_minor": 2
}
