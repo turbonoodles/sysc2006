{
 "cells": [
  {
   "cell_type": "markdown",
   "metadata": {},
   "source": [
    "# Data Representation in C\n",
    "\n",
    "How do we interpret the number 742? The number is:\n",
    "* 7 hundreds\n",
    "* 4 tens\n",
    "* 2 ones\n",
    "\n",
    "Different bases are more natural in certain situations: base 10 is convenient for humans, but binary is more convenient in digital systems (*on* and *off*).\n",
    "\n",
    "Base 2 (binary) has 2 symbols) (0, 1). Decimal has 10 symbols (0-9) and hexadecimal has 16 symbols (0-9 + A-F). Note that for any base $n$, the symbols represent a range $(0, n-1)$.\n",
    "\n",
    "As a generic representation, multiply each digit by its weight, then sum the results. Mathematically if $ d_0 d_1 d_3 d_4 $ is in base $n$:\n",
    "\n",
    "$$ d_0 d_1 d_3 d_4 = d_3 \\times n^3 + d_2 \\times n^2 + d_1 \\times n^1 + d_0 \\times n^0 $$"
   ]
  },
  {
   "cell_type": "markdown",
   "metadata": {},
   "source": [
    "In a computer, data are stored as binary digits in fixed-size cells, called *words*. An 8-bit word is usually called a *byte*, and is an extremely common size for a memory cell. 4 bits, in a burst of cuteness, is called a *nybble* and represents a single hexadecimal digit."
   ]
  },
  {
   "cell_type": "markdown",
   "metadata": {},
   "source": [
    "### Decimal to binary conversion"
   ]
  },
  {
   "cell_type": "code",
   "execution_count": 1,
   "metadata": {},
   "outputs": [
    {
     "name": "stdout",
     "output_type": "stream",
     "text": [
      "     1 =                    1\n",
      "     2 =                   10\n",
      "     3 =                   11\n",
      "     4 =                  100\n",
      "     5 =                  101\n",
      "     6 =                  110\n",
      "     7 =                  111\n",
      "     8 =                 1000\n",
      "     9 =                 1001\n",
      "    10 =                 1010\n"
     ]
    }
   ],
   "source": [
    "#include <stdio.h>\n",
    "#include <stdlib.h>\n",
    "\n",
    "// convert decimal numbers to binary\n",
    "unsigned long long decimalToBinary(int decimalnum){\n",
    "    long remainder = 0;\n",
    "    long temp = 1;\n",
    "    unsigned long long binarynum = 0;\n",
    "    \n",
    "    while (decimalnum > 0){\n",
    "        remainder  = decimalnum % 2;\n",
    "        decimalnum = decimalnum / 2;\n",
    "        binarynum = binarynum + remainder * temp;\n",
    "        temp = temp * 10; // shift left one column\n",
    "    }\n",
    "    return binarynum;\n",
    "}\n",
    "\n",
    "// print the first 15 binary numbers\n",
    "int main(void){\n",
    "    for (long i = 1; i <= 10; i++){\n",
    "        printf(\"%6ld = %20llu\\n\", i, decimalToBinary(i) );\n",
    "    }\n",
    "    return EXIT_SUCCESS;\n",
    "}"
   ]
  },
  {
   "cell_type": "code",
   "execution_count": 1,
   "metadata": {},
   "outputs": [
    {
     "name": "stdout",
     "output_type": "stream",
     "text": [
      "int type has 4 bytes\n",
      "long type has 8 bytes.\n",
      "long long type has 8 bytes.\n",
      "float type has 4 bytes.\n",
      "double type has 8 bytes.\n",
      "unsigned long long type has 8 bytes.\n"
     ]
    }
   ],
   "source": [
    "#include <stdio.h>\n",
    "#include <stdlib.h>\n",
    "\n",
    "int main(void){    \n",
    "    printf(\"int type has %lu bytes\\n\", sizeof(int)); // use %lu to print long unsigned integer\n",
    "    printf(\"long type has %lu bytes.\\n\", sizeof(long));\n",
    "    printf(\"long long type has %lu bytes.\\n\", sizeof(long long));\n",
    "    printf(\"float type has %lu bytes.\\n\", sizeof(float));\n",
    "    printf(\"double type has %lu bytes.\\n\", sizeof(double));\n",
    "    printf(\"unsigned long long type has %lu bytes.\\n\", sizeof(unsigned long long));\n",
    "}"
   ]
  },
  {
   "cell_type": "markdown",
   "metadata": {},
   "source": [
    "## Signed Magnitude\n",
    "\n",
    "Note that in a signed integer type, we *lose* one bit to represent the sign. In a naive implementation, we would just use the first bit in the word to represent a negative sign:\n",
    "\n",
    "| Cell contents | Value in Base 10|\n",
    "|:-------------:|:---------------:|\n",
    "| 011111111     |            127  |\n",
    "| ...           |            ...  |\n",
    "| 000000000     |            +0   |\n",
    "| 100000000     |            -0   |\n",
    "| ...           |            ...  |\n",
    "| 111111111     |            -127 |\n",
    "\n",
    "It is bothersome that this implementation gives us two different representations of zero. Maybe we can do better.\n",
    "\n",
    "A better implementation, used in basically all digital logic, is called *two's complements* format. We negate a binary number by:\n",
    "* flip all the bits\n",
    "* add one\n",
    "\n",
    "| Cell contents | Value in Base 10|\n",
    "|:-------------:|:---------------:|\n",
    "| 00000000      |            0    |\n",
    "| 00000001      |            1    |\n",
    "| ...           |            ...  |\n",
    "| 01111111     |            +127 |\n",
    "| 10000000     |            -128 |\n",
    "| ...           |            ...  |\n",
    "| 11111110     |            -2   |\n",
    "| 11111111     |            -1 |\n"
   ]
  },
  {
   "cell_type": "markdown",
   "metadata": {},
   "source": [
    "## Characters\n",
    "\n",
    "Characters are also represented by binary values, or *character codes*. C by default uses ASCII, the *American Standard Code for Information Interchange*, which includes 95 letter characters and 30 control codes. It has 128 values and fits in 7 bits."
   ]
  },
  {
   "cell_type": "markdown",
   "metadata": {},
   "source": [
    "## Floating Point\n",
    "\n",
    "Binary numbers can have a *binary point*, where digits to the right are fractional and digits to the left are whole, analagously to the decimal point. \n",
    "\n",
    "Some decimal fractions produce a repeating fraction when converted to binary. To store these values in a fixed-size cell, it must be truncated, and will produce a small error."
   ]
  },
  {
   "cell_type": "code",
   "execution_count": null,
   "metadata": {},
   "outputs": [],
   "source": [
    "#include <stdio.h>\n",
    "#include <stdlib.h>\n",
    "\n",
    "int main(void){    \n",
    "    int s = 0;\n",
    "}"
   ]
  },
  {
   "cell_type": "markdown",
   "metadata": {},
   "source": [
    "### Normalized Scientific Notation\n",
    "To store a normalized binary number in a 24-bit word we use 16 bits for the base (*mantissa*), with an exponent:\n",
    "* 8 bit exponent\n",
    "* 16 bit mantissa\n",
    "    * 1 sign bit (0 is positive, 1 is negative)\n",
    "    * no leading one/binary point\n",
    "        * this is probably equivalent to incrementing the exponent\n",
    "    * 15 bits store the fractional point of the mantissa"
   ]
  },
  {
   "cell_type": "code",
   "execution_count": null,
   "metadata": {},
   "outputs": [],
   "source": []
  }
 ],
 "metadata": {
  "kernelspec": {
   "display_name": "C",
   "language": "c",
   "name": "c"
  },
  "language_info": {
   "file_extension": ".c",
   "mimetype": "text/plain",
   "name": "c"
  }
 },
 "nbformat": 4,
 "nbformat_minor": 2
}
